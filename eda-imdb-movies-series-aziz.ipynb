{
 "cells": [
  {
   "cell_type": "markdown",
   "metadata": {},
   "source": [
    "# EDA on IMDB most popular Films and series\n",
    "\n",
    "IMDB is a popular website for rating films and series. I always go there if I want to watch something new, and many users trust its rankings. The data is about the most famous 6k+ Films and series on IMDB with rates. The Data is Perfect for Exploratory Data Analysis. I got this data from [Kaggle](https://www.kaggle.com/mazenramadan/imdb-most-popular-films-and-series). \n",
    "I would like to do EDA. Want to find answers to some interesting questions. Todo, I am using Pandas and NumPy for data storage and processing, and for visualization, I am using Matplotlib and Seaborn.\n",
    "\n",
    "One of the best sources I came across to do all the mentioned above is [Data Analysis with Python: Zero to Pandas](zerotopandas.com). I learned the basics of Python, Pandas, NumPy, and visualization tools like Matplotlid and Seaborn.\n"
   ]
  },
  {
   "cell_type": "markdown",
   "metadata": {},
   "source": [
    "## Downloading the Dataset\n",
    "\n",
    "The dataset have 6178 rows and 14 columns. Column description given below.\n",
    "\n",
    "\n",
    "###### Name: Name of the film/series\n",
    "###### Data: Creation date\n",
    "###### Rate: IMDB's Rate\n",
    "###### Votes: Number of voters\n",
    "###### Genre: Genres , Actions , Drama, Romance, etc…\n",
    "###### Duration: Duration of the episode , film\n",
    "###### Type: whether it's film or series\n",
    "###### Certificate:\n",
    "        TV-Y: Designed to be appropriate for all children\n",
    "        TV-Y7: Suitable for ages 7 and up\n",
    "        G: Suitable for General Audiences\n",
    "        TV-G: Suitable for General Audiences\n",
    "        PG: Parental Guidance suggested\n",
    "        TV-PG: Parental Guidance suggested\n",
    "        PG-13: Parents strongly cautioned. May be Inappropriate for ages 12 and under.\n",
    "        TV-14: Parents strongly cautioned. May not be suitable for ages 14 and under.\n",
    "        R: Restricted. May be inappropriate for ages 17 and under.\n",
    "        TV-MA: For Mature Audiences. May not be suitable for ages 17 and under.\n",
    "        NC-17: Inappropriate for ages 17 and under\n",
    "###### Episodes: Number of Episodes only for series\n",
    "###### Nudity, Violence, Profanity, Alcohol, and Frightening :How much does it have of these"
   ]
  },
  {
   "cell_type": "code",
   "execution_count": 1,
   "metadata": {},
   "outputs": [],
   "source": [
    "!pip install jovian opendatasets --upgrade --quiet"
   ]
  },
  {
   "cell_type": "markdown",
   "metadata": {},
   "source": [
    "Let's begin by downloading the data, and listing the files within the dataset."
   ]
  },
  {
   "cell_type": "code",
   "execution_count": 2,
   "metadata": {},
   "outputs": [],
   "source": [
    "# Change this\n",
    "dataset_url = 'https://www.kaggle.com/mazenramadan/imdb-most-popular-films-and-series' "
   ]
  },
  {
   "cell_type": "code",
   "execution_count": 3,
   "metadata": {},
   "outputs": [
    {
     "name": "stdout",
     "output_type": "stream",
     "text": [
      "Please provide your Kaggle credentials to download this dataset. Learn more: http://bit.ly/kaggle-creds\n",
      "Your Kaggle username: abdulazizmd\n",
      "Your Kaggle Key: ········\n",
      "Downloading imdb-most-popular-films-and-series.zip to ./imdb-most-popular-films-and-series\n"
     ]
    },
    {
     "name": "stderr",
     "output_type": "stream",
     "text": [
      "100%|██████████| 167k/167k [00:00<00:00, 58.7MB/s]"
     ]
    },
    {
     "name": "stdout",
     "output_type": "stream",
     "text": [
      "\n"
     ]
    },
    {
     "name": "stderr",
     "output_type": "stream",
     "text": [
      "\n"
     ]
    }
   ],
   "source": [
    "import opendatasets as od\n",
    "od.download(dataset_url)"
   ]
  },
  {
   "cell_type": "markdown",
   "metadata": {},
   "source": [
    "The dataset has been downloaded and extracted."
   ]
  },
  {
   "cell_type": "code",
   "execution_count": 4,
   "metadata": {},
   "outputs": [],
   "source": [
    "# Change this\n",
    "data_dir = './imdb-most-popular-films-and-series'"
   ]
  },
  {
   "cell_type": "code",
   "execution_count": 5,
   "metadata": {},
   "outputs": [
    {
     "data": {
      "text/plain": [
       "['imdb.csv']"
      ]
     },
     "execution_count": 5,
     "metadata": {},
     "output_type": "execute_result"
    }
   ],
   "source": [
    "import os\n",
    "os.listdir(data_dir)"
   ]
  },
  {
   "cell_type": "markdown",
   "metadata": {},
   "source": [
    "Let us save and upload our work to Jovian before continuing."
   ]
  },
  {
   "cell_type": "code",
   "execution_count": 6,
   "metadata": {},
   "outputs": [],
   "source": [
    "project_name = \"eda_imdb_movies_series-aziz\" # change this (use lowercase letters and hyphens only)"
   ]
  },
  {
   "cell_type": "code",
   "execution_count": 7,
   "metadata": {},
   "outputs": [],
   "source": [
    "!pip install jovian --upgrade -q"
   ]
  },
  {
   "cell_type": "code",
   "execution_count": 8,
   "metadata": {},
   "outputs": [
    {
     "data": {
      "application/javascript": [
       "if (window.IPython && IPython.notebook.kernel) IPython.notebook.kernel.execute('jovian.utils.jupyter.get_notebook_name_saved = lambda: \"' + IPython.notebook.notebook_name + '\"')"
      ],
      "text/plain": [
       "<IPython.core.display.Javascript object>"
      ]
     },
     "metadata": {},
     "output_type": "display_data"
    }
   ],
   "source": [
    "import jovian"
   ]
  },
  {
   "cell_type": "code",
   "execution_count": 9,
   "metadata": {},
   "outputs": [
    {
     "data": {
      "application/javascript": [
       "window.require && require([\"base/js/namespace\"],function(Jupyter){Jupyter.notebook.save_checkpoint()})"
      ],
      "text/plain": [
       "<IPython.core.display.Javascript object>"
      ]
     },
     "metadata": {},
     "output_type": "display_data"
    },
    {
     "name": "stdout",
     "output_type": "stream",
     "text": [
      "[jovian] Updating notebook \"azizforai/eda-imdb-movies-series-aziz\" on https://jovian.ai\u001b[0m\n",
      "[jovian] Committed successfully! https://jovian.ai/azizforai/eda-imdb-movies-series-aziz\u001b[0m\n"
     ]
    },
    {
     "data": {
      "text/plain": [
       "'https://jovian.ai/azizforai/eda-imdb-movies-series-aziz'"
      ]
     },
     "execution_count": 9,
     "metadata": {},
     "output_type": "execute_result"
    }
   ],
   "source": [
    "jovian.commit(project=project_name)"
   ]
  },
  {
   "cell_type": "markdown",
   "metadata": {},
   "source": [
    "## Data Preparation and Cleaning\n",
    "\n",
    "Data Cleaning is an important step and time-consuming step in data analysis. Formatting issues (e.g., rows and columns merged), missing data, duplicated rows, spelling discrepancies, and so on could all be present. These challenges could make data analysis complex, ending in errors or unsuitable results. As a result, these points must be addressed before data can be analyzed. \n",
    "\n"
   ]
  },
  {
   "cell_type": "code",
   "execution_count": 10,
   "metadata": {},
   "outputs": [],
   "source": [
    "#import libraries\n",
    "import pandas as pd\n",
    "import numpy as np\n",
    "import matplotlib.pyplot as plt\n",
    "%matplotlib inline\n",
    "\n",
    "import warnings\n",
    "warnings.filterwarnings('ignore') # if there are any warning due to version mismatch, it will be ignored"
   ]
  },
  {
   "cell_type": "code",
   "execution_count": 11,
   "metadata": {},
   "outputs": [
    {
     "data": {
      "text/html": [
       "<div>\n",
       "<style scoped>\n",
       "    .dataframe tbody tr th:only-of-type {\n",
       "        vertical-align: middle;\n",
       "    }\n",
       "\n",
       "    .dataframe tbody tr th {\n",
       "        vertical-align: top;\n",
       "    }\n",
       "\n",
       "    .dataframe thead th {\n",
       "        text-align: right;\n",
       "    }\n",
       "</style>\n",
       "<table border=\"1\" class=\"dataframe\">\n",
       "  <thead>\n",
       "    <tr style=\"text-align: right;\">\n",
       "      <th></th>\n",
       "      <th>Name</th>\n",
       "      <th>Date</th>\n",
       "      <th>Rate</th>\n",
       "      <th>Votes</th>\n",
       "      <th>Genre</th>\n",
       "      <th>Duration</th>\n",
       "      <th>Type</th>\n",
       "      <th>Certificate</th>\n",
       "      <th>Episodes</th>\n",
       "      <th>Nudity</th>\n",
       "      <th>Violence</th>\n",
       "      <th>Profanity</th>\n",
       "      <th>Alcohol</th>\n",
       "      <th>Frightening</th>\n",
       "    </tr>\n",
       "  </thead>\n",
       "  <tbody>\n",
       "    <tr>\n",
       "      <th>0</th>\n",
       "      <td>No Time to Die</td>\n",
       "      <td>2021</td>\n",
       "      <td>7.6</td>\n",
       "      <td>107,163</td>\n",
       "      <td>Action, Adventure, Thriller</td>\n",
       "      <td>163</td>\n",
       "      <td>Film</td>\n",
       "      <td>PG-13</td>\n",
       "      <td>-</td>\n",
       "      <td>Mild</td>\n",
       "      <td>Moderate</td>\n",
       "      <td>Mild</td>\n",
       "      <td>Mild</td>\n",
       "      <td>Moderate</td>\n",
       "    </tr>\n",
       "    <tr>\n",
       "      <th>1</th>\n",
       "      <td>The Guilty</td>\n",
       "      <td>2021</td>\n",
       "      <td>6.3</td>\n",
       "      <td>64,375</td>\n",
       "      <td>Crime, Drama, Thriller</td>\n",
       "      <td>90</td>\n",
       "      <td>Film</td>\n",
       "      <td>R</td>\n",
       "      <td>-</td>\n",
       "      <td>None</td>\n",
       "      <td>None</td>\n",
       "      <td>Severe</td>\n",
       "      <td>None</td>\n",
       "      <td>Moderate</td>\n",
       "    </tr>\n",
       "    <tr>\n",
       "      <th>2</th>\n",
       "      <td>The Many Saints of Newark</td>\n",
       "      <td>2021</td>\n",
       "      <td>6.4</td>\n",
       "      <td>27,145</td>\n",
       "      <td>Crime, Drama</td>\n",
       "      <td>120</td>\n",
       "      <td>Film</td>\n",
       "      <td>R</td>\n",
       "      <td>-</td>\n",
       "      <td>Moderate</td>\n",
       "      <td>Severe</td>\n",
       "      <td>Severe</td>\n",
       "      <td>Moderate</td>\n",
       "      <td>Moderate</td>\n",
       "    </tr>\n",
       "    <tr>\n",
       "      <th>3</th>\n",
       "      <td>Venom: Let There Be Carnage</td>\n",
       "      <td>2021</td>\n",
       "      <td>6.4</td>\n",
       "      <td>30,443</td>\n",
       "      <td>Action, Adventure, Sci-Fi</td>\n",
       "      <td>97</td>\n",
       "      <td>Film</td>\n",
       "      <td>PG-13</td>\n",
       "      <td>-</td>\n",
       "      <td>None</td>\n",
       "      <td>Moderate</td>\n",
       "      <td>Moderate</td>\n",
       "      <td>Mild</td>\n",
       "      <td>Moderate</td>\n",
       "    </tr>\n",
       "    <tr>\n",
       "      <th>4</th>\n",
       "      <td>Dune</td>\n",
       "      <td>2021</td>\n",
       "      <td>8.3</td>\n",
       "      <td>84,636</td>\n",
       "      <td>Action, Adventure, Drama</td>\n",
       "      <td>155</td>\n",
       "      <td>Film</td>\n",
       "      <td>PG-13</td>\n",
       "      <td>-</td>\n",
       "      <td>None</td>\n",
       "      <td>Moderate</td>\n",
       "      <td>None</td>\n",
       "      <td>Mild</td>\n",
       "      <td>Moderate</td>\n",
       "    </tr>\n",
       "    <tr>\n",
       "      <th>...</th>\n",
       "      <td>...</td>\n",
       "      <td>...</td>\n",
       "      <td>...</td>\n",
       "      <td>...</td>\n",
       "      <td>...</td>\n",
       "      <td>...</td>\n",
       "      <td>...</td>\n",
       "      <td>...</td>\n",
       "      <td>...</td>\n",
       "      <td>...</td>\n",
       "      <td>...</td>\n",
       "      <td>...</td>\n",
       "      <td>...</td>\n",
       "      <td>...</td>\n",
       "    </tr>\n",
       "    <tr>\n",
       "      <th>6173</th>\n",
       "      <td>The Human Centipede II (Full Sequence)</td>\n",
       "      <td>2011</td>\n",
       "      <td>3.8</td>\n",
       "      <td>37,492</td>\n",
       "      <td>Horror</td>\n",
       "      <td>91</td>\n",
       "      <td>Film</td>\n",
       "      <td>Not Rated</td>\n",
       "      <td>-</td>\n",
       "      <td>Severe</td>\n",
       "      <td>Severe</td>\n",
       "      <td>Severe</td>\n",
       "      <td>Mild</td>\n",
       "      <td>Severe</td>\n",
       "    </tr>\n",
       "    <tr>\n",
       "      <th>6174</th>\n",
       "      <td>Double Indemnity</td>\n",
       "      <td>1944</td>\n",
       "      <td>8.3</td>\n",
       "      <td>150,448</td>\n",
       "      <td>Crime, Drama, Film-Noir</td>\n",
       "      <td>107</td>\n",
       "      <td>Film</td>\n",
       "      <td>Passed</td>\n",
       "      <td>-</td>\n",
       "      <td>None</td>\n",
       "      <td>Mild</td>\n",
       "      <td>None</td>\n",
       "      <td>Mild</td>\n",
       "      <td>Mild</td>\n",
       "    </tr>\n",
       "    <tr>\n",
       "      <th>6175</th>\n",
       "      <td>Before the Devil Knows You're Dead</td>\n",
       "      <td>2007</td>\n",
       "      <td>7.3</td>\n",
       "      <td>100,668</td>\n",
       "      <td>Crime, Drama, Thriller</td>\n",
       "      <td>117</td>\n",
       "      <td>Film</td>\n",
       "      <td>R</td>\n",
       "      <td>-</td>\n",
       "      <td>Severe</td>\n",
       "      <td>Moderate</td>\n",
       "      <td>Severe</td>\n",
       "      <td>Severe</td>\n",
       "      <td>Severe</td>\n",
       "    </tr>\n",
       "    <tr>\n",
       "      <th>6176</th>\n",
       "      <td>Queen Bees</td>\n",
       "      <td>2021</td>\n",
       "      <td>6.0</td>\n",
       "      <td>887</td>\n",
       "      <td>Comedy, Drama, Romance</td>\n",
       "      <td>100</td>\n",
       "      <td>Film</td>\n",
       "      <td>PG-13</td>\n",
       "      <td>-</td>\n",
       "      <td>None</td>\n",
       "      <td>None</td>\n",
       "      <td>Mild</td>\n",
       "      <td>Moderate</td>\n",
       "      <td>None</td>\n",
       "    </tr>\n",
       "    <tr>\n",
       "      <th>6177</th>\n",
       "      <td>Death Race</td>\n",
       "      <td>2008</td>\n",
       "      <td>6.3</td>\n",
       "      <td>203,578</td>\n",
       "      <td>Action, Sci-Fi, Thriller</td>\n",
       "      <td>105</td>\n",
       "      <td>Film</td>\n",
       "      <td>R</td>\n",
       "      <td>-</td>\n",
       "      <td>Mild</td>\n",
       "      <td>Severe</td>\n",
       "      <td>Severe</td>\n",
       "      <td>Mild</td>\n",
       "      <td>Moderate</td>\n",
       "    </tr>\n",
       "  </tbody>\n",
       "</table>\n",
       "<p>6178 rows × 14 columns</p>\n",
       "</div>"
      ],
      "text/plain": [
       "                                        Name  Date Rate    Votes  \\\n",
       "0                             No Time to Die  2021  7.6  107,163   \n",
       "1                                 The Guilty  2021  6.3   64,375   \n",
       "2                  The Many Saints of Newark  2021  6.4   27,145   \n",
       "3                Venom: Let There Be Carnage  2021  6.4   30,443   \n",
       "4                                       Dune  2021  8.3   84,636   \n",
       "...                                      ...   ...  ...      ...   \n",
       "6173  The Human Centipede II (Full Sequence)  2011  3.8   37,492   \n",
       "6174                        Double Indemnity  1944  8.3  150,448   \n",
       "6175      Before the Devil Knows You're Dead  2007  7.3  100,668   \n",
       "6176                              Queen Bees  2021  6.0      887   \n",
       "6177                              Death Race  2008  6.3  203,578   \n",
       "\n",
       "                            Genre Duration  Type Certificate Episodes  \\\n",
       "0     Action, Adventure, Thriller     163   Film       PG-13        -   \n",
       "1          Crime, Drama, Thriller      90   Film           R        -   \n",
       "2                    Crime, Drama     120   Film           R        -   \n",
       "3       Action, Adventure, Sci-Fi      97   Film       PG-13        -   \n",
       "4        Action, Adventure, Drama     155   Film       PG-13        -   \n",
       "...                           ...      ...   ...         ...      ...   \n",
       "6173                       Horror      91   Film   Not Rated        -   \n",
       "6174      Crime, Drama, Film-Noir     107   Film      Passed        -   \n",
       "6175       Crime, Drama, Thriller     117   Film           R        -   \n",
       "6176       Comedy, Drama, Romance     100   Film       PG-13        -   \n",
       "6177     Action, Sci-Fi, Thriller     105   Film           R        -   \n",
       "\n",
       "        Nudity  Violence Profanity   Alcohol Frightening  \n",
       "0         Mild  Moderate      Mild      Mild    Moderate  \n",
       "1         None      None    Severe      None    Moderate  \n",
       "2     Moderate    Severe    Severe  Moderate    Moderate  \n",
       "3         None  Moderate  Moderate      Mild    Moderate  \n",
       "4         None  Moderate      None      Mild    Moderate  \n",
       "...        ...       ...       ...       ...         ...  \n",
       "6173    Severe    Severe    Severe      Mild      Severe  \n",
       "6174      None      Mild      None      Mild        Mild  \n",
       "6175    Severe  Moderate    Severe    Severe      Severe  \n",
       "6176      None      None      Mild  Moderate        None  \n",
       "6177      Mild    Severe    Severe      Mild    Moderate  \n",
       "\n",
       "[6178 rows x 14 columns]"
      ]
     },
     "execution_count": 11,
     "metadata": {},
     "output_type": "execute_result"
    }
   ],
   "source": [
    "#load dataset\n",
    "Imdb_df = pd.read_csv(\"./imdb-most-popular-films-and-series/imdb.csv\")\n",
    "Imdb_df"
   ]
  },
  {
   "cell_type": "code",
   "execution_count": 12,
   "metadata": {},
   "outputs": [
    {
     "data": {
      "text/plain": [
       "(6178, 14)"
      ]
     },
     "execution_count": 12,
     "metadata": {},
     "output_type": "execute_result"
    }
   ],
   "source": [
    "Imdb_df.shape"
   ]
  },
  {
   "cell_type": "code",
   "execution_count": 13,
   "metadata": {},
   "outputs": [
    {
     "data": {
      "text/plain": [
       "Index(['Name', 'Date', 'Rate', 'Votes', 'Genre', 'Duration', 'Type',\n",
       "       'Certificate', 'Episodes', 'Nudity', 'Violence', 'Profanity', 'Alcohol',\n",
       "       'Frightening'],\n",
       "      dtype='object')"
      ]
     },
     "execution_count": 13,
     "metadata": {},
     "output_type": "execute_result"
    }
   ],
   "source": [
    "Imdb_df.columns"
   ]
  },
  {
   "cell_type": "code",
   "execution_count": 14,
   "metadata": {},
   "outputs": [
    {
     "name": "stdout",
     "output_type": "stream",
     "text": [
      "<class 'pandas.core.frame.DataFrame'>\n",
      "RangeIndex: 6178 entries, 0 to 6177\n",
      "Data columns (total 14 columns):\n",
      " #   Column       Non-Null Count  Dtype \n",
      "---  ------       --------------  ----- \n",
      " 0   Name         6178 non-null   object\n",
      " 1   Date         6178 non-null   int64 \n",
      " 2   Rate         6178 non-null   object\n",
      " 3   Votes        6178 non-null   object\n",
      " 4   Genre        6178 non-null   object\n",
      " 5   Duration     6178 non-null   object\n",
      " 6   Type         6178 non-null   object\n",
      " 7   Certificate  6178 non-null   object\n",
      " 8   Episodes     6178 non-null   object\n",
      " 9   Nudity       6178 non-null   object\n",
      " 10  Violence     6178 non-null   object\n",
      " 11  Profanity    6178 non-null   object\n",
      " 12  Alcohol      6178 non-null   object\n",
      " 13  Frightening  6178 non-null   object\n",
      "dtypes: int64(1), object(13)\n",
      "memory usage: 675.8+ KB\n"
     ]
    }
   ],
   "source": [
    "Imdb_df.info()"
   ]
  },
  {
   "cell_type": "code",
   "execution_count": 15,
   "metadata": {},
   "outputs": [
    {
     "data": {
      "text/html": [
       "<div>\n",
       "<style scoped>\n",
       "    .dataframe tbody tr th:only-of-type {\n",
       "        vertical-align: middle;\n",
       "    }\n",
       "\n",
       "    .dataframe tbody tr th {\n",
       "        vertical-align: top;\n",
       "    }\n",
       "\n",
       "    .dataframe thead th {\n",
       "        text-align: right;\n",
       "    }\n",
       "</style>\n",
       "<table border=\"1\" class=\"dataframe\">\n",
       "  <thead>\n",
       "    <tr style=\"text-align: right;\">\n",
       "      <th></th>\n",
       "      <th>Date</th>\n",
       "    </tr>\n",
       "  </thead>\n",
       "  <tbody>\n",
       "    <tr>\n",
       "      <th>count</th>\n",
       "      <td>6178.000000</td>\n",
       "    </tr>\n",
       "    <tr>\n",
       "      <th>mean</th>\n",
       "      <td>2005.952574</td>\n",
       "    </tr>\n",
       "    <tr>\n",
       "      <th>std</th>\n",
       "      <td>15.910248</td>\n",
       "    </tr>\n",
       "    <tr>\n",
       "      <th>min</th>\n",
       "      <td>1922.000000</td>\n",
       "    </tr>\n",
       "    <tr>\n",
       "      <th>25%</th>\n",
       "      <td>1998.000000</td>\n",
       "    </tr>\n",
       "    <tr>\n",
       "      <th>50%</th>\n",
       "      <td>2011.000000</td>\n",
       "    </tr>\n",
       "    <tr>\n",
       "      <th>75%</th>\n",
       "      <td>2019.000000</td>\n",
       "    </tr>\n",
       "    <tr>\n",
       "      <th>max</th>\n",
       "      <td>2023.000000</td>\n",
       "    </tr>\n",
       "  </tbody>\n",
       "</table>\n",
       "</div>"
      ],
      "text/plain": [
       "              Date\n",
       "count  6178.000000\n",
       "mean   2005.952574\n",
       "std      15.910248\n",
       "min    1922.000000\n",
       "25%    1998.000000\n",
       "50%    2011.000000\n",
       "75%    2019.000000\n",
       "max    2023.000000"
      ]
     },
     "execution_count": 15,
     "metadata": {},
     "output_type": "execute_result"
    }
   ],
   "source": [
    "#Used for calculating some statistical data like percentile, mean and std of the numerical values\n",
    "Imdb_df.describe()"
   ]
  },
  {
   "cell_type": "markdown",
   "metadata": {},
   "source": [
    "describe() applies only on numerical features. So we did not able to see the description of \"Rate\", \"Votes\", and \"Duration\" as the type of those features are object. In data cleaning process we convert \"Rate\", \"Votes\", and \"Duration\" features to numeric for better understanding about data."
   ]
  },
  {
   "cell_type": "code",
   "execution_count": 16,
   "metadata": {},
   "outputs": [
    {
     "data": {
      "text/html": [
       "<div>\n",
       "<style scoped>\n",
       "    .dataframe tbody tr th:only-of-type {\n",
       "        vertical-align: middle;\n",
       "    }\n",
       "\n",
       "    .dataframe tbody tr th {\n",
       "        vertical-align: top;\n",
       "    }\n",
       "\n",
       "    .dataframe thead th {\n",
       "        text-align: right;\n",
       "    }\n",
       "</style>\n",
       "<table border=\"1\" class=\"dataframe\">\n",
       "  <thead>\n",
       "    <tr style=\"text-align: right;\">\n",
       "      <th></th>\n",
       "      <th>Name</th>\n",
       "      <th>Rate</th>\n",
       "      <th>Votes</th>\n",
       "      <th>Genre</th>\n",
       "      <th>Duration</th>\n",
       "      <th>Type</th>\n",
       "      <th>Certificate</th>\n",
       "      <th>Episodes</th>\n",
       "      <th>Nudity</th>\n",
       "      <th>Violence</th>\n",
       "      <th>Profanity</th>\n",
       "      <th>Alcohol</th>\n",
       "      <th>Frightening</th>\n",
       "    </tr>\n",
       "  </thead>\n",
       "  <tbody>\n",
       "    <tr>\n",
       "      <th>count</th>\n",
       "      <td>6178</td>\n",
       "      <td>6178</td>\n",
       "      <td>6178</td>\n",
       "      <td>6178</td>\n",
       "      <td>6178</td>\n",
       "      <td>6178</td>\n",
       "      <td>6178</td>\n",
       "      <td>6178</td>\n",
       "      <td>6178</td>\n",
       "      <td>6178</td>\n",
       "      <td>6178</td>\n",
       "      <td>6178</td>\n",
       "      <td>6178</td>\n",
       "    </tr>\n",
       "    <tr>\n",
       "      <th>unique</th>\n",
       "      <td>4820</td>\n",
       "      <td>77</td>\n",
       "      <td>4802</td>\n",
       "      <td>377</td>\n",
       "      <td>203</td>\n",
       "      <td>2</td>\n",
       "      <td>23</td>\n",
       "      <td>284</td>\n",
       "      <td>5</td>\n",
       "      <td>5</td>\n",
       "      <td>5</td>\n",
       "      <td>5</td>\n",
       "      <td>5</td>\n",
       "    </tr>\n",
       "    <tr>\n",
       "      <th>top</th>\n",
       "      <td>King Kong</td>\n",
       "      <td>7.3</td>\n",
       "      <td>No Votes</td>\n",
       "      <td>Comedy</td>\n",
       "      <td>60</td>\n",
       "      <td>Film</td>\n",
       "      <td>R</td>\n",
       "      <td>-</td>\n",
       "      <td>Mild</td>\n",
       "      <td>Moderate</td>\n",
       "      <td>Mild</td>\n",
       "      <td>Mild</td>\n",
       "      <td>Moderate</td>\n",
       "    </tr>\n",
       "    <tr>\n",
       "      <th>freq</th>\n",
       "      <td>5</td>\n",
       "      <td>273</td>\n",
       "      <td>185</td>\n",
       "      <td>268</td>\n",
       "      <td>352</td>\n",
       "      <td>4446</td>\n",
       "      <td>1885</td>\n",
       "      <td>4446</td>\n",
       "      <td>2292</td>\n",
       "      <td>1814</td>\n",
       "      <td>2077</td>\n",
       "      <td>3257</td>\n",
       "      <td>1969</td>\n",
       "    </tr>\n",
       "  </tbody>\n",
       "</table>\n",
       "</div>"
      ],
      "text/plain": [
       "             Name  Rate     Votes   Genre Duration  Type Certificate Episodes  \\\n",
       "count        6178  6178      6178    6178     6178  6178        6178     6178   \n",
       "unique       4820    77      4802     377      203     2          23      284   \n",
       "top     King Kong   7.3  No Votes  Comedy      60   Film           R        -   \n",
       "freq            5   273       185     268      352  4446        1885     4446   \n",
       "\n",
       "       Nudity  Violence Profanity Alcohol Frightening  \n",
       "count    6178      6178      6178    6178        6178  \n",
       "unique      5         5         5       5           5  \n",
       "top      Mild  Moderate      Mild    Mild    Moderate  \n",
       "freq     2292      1814      2077    3257        1969  "
      ]
     },
     "execution_count": 16,
     "metadata": {},
     "output_type": "execute_result"
    }
   ],
   "source": [
    "#This will include count, unique, top and freq. The top is the most common value. The freq is the most common value’s frequency.\n",
    "Imdb_df.describe(include = 'object')"
   ]
  },
  {
   "cell_type": "code",
   "execution_count": 17,
   "metadata": {},
   "outputs": [
    {
     "data": {
      "text/html": [
       "<div>\n",
       "<style scoped>\n",
       "    .dataframe tbody tr th:only-of-type {\n",
       "        vertical-align: middle;\n",
       "    }\n",
       "\n",
       "    .dataframe tbody tr th {\n",
       "        vertical-align: top;\n",
       "    }\n",
       "\n",
       "    .dataframe thead th {\n",
       "        text-align: right;\n",
       "    }\n",
       "</style>\n",
       "<table border=\"1\" class=\"dataframe\">\n",
       "  <thead>\n",
       "    <tr style=\"text-align: right;\">\n",
       "      <th></th>\n",
       "      <th>Name</th>\n",
       "      <th>Date</th>\n",
       "      <th>Rate</th>\n",
       "      <th>Votes</th>\n",
       "      <th>Genre</th>\n",
       "      <th>Duration</th>\n",
       "      <th>Type</th>\n",
       "      <th>Certificate</th>\n",
       "      <th>Episodes</th>\n",
       "      <th>Nudity</th>\n",
       "      <th>Violence</th>\n",
       "      <th>Profanity</th>\n",
       "      <th>Alcohol</th>\n",
       "      <th>Frightening</th>\n",
       "    </tr>\n",
       "  </thead>\n",
       "  <tbody>\n",
       "    <tr>\n",
       "      <th>2084</th>\n",
       "      <td>King Kong</td>\n",
       "      <td>2005</td>\n",
       "      <td>7.2</td>\n",
       "      <td>407,876</td>\n",
       "      <td>Action, Adventure, Drama</td>\n",
       "      <td>187</td>\n",
       "      <td>Film</td>\n",
       "      <td>PG-13</td>\n",
       "      <td>-</td>\n",
       "      <td>Mild</td>\n",
       "      <td>Moderate</td>\n",
       "      <td>Mild</td>\n",
       "      <td>Mild</td>\n",
       "      <td>Moderate</td>\n",
       "    </tr>\n",
       "    <tr>\n",
       "      <th>4207</th>\n",
       "      <td>King Kong</td>\n",
       "      <td>1976</td>\n",
       "      <td>5.9</td>\n",
       "      <td>31,536</td>\n",
       "      <td>Adventure, Horror</td>\n",
       "      <td>134</td>\n",
       "      <td>Film</td>\n",
       "      <td>PG</td>\n",
       "      <td>-</td>\n",
       "      <td>Mild</td>\n",
       "      <td>Moderate</td>\n",
       "      <td>Mild</td>\n",
       "      <td>Mild</td>\n",
       "      <td>Moderate</td>\n",
       "    </tr>\n",
       "    <tr>\n",
       "      <th>4951</th>\n",
       "      <td>King Kong</td>\n",
       "      <td>1933</td>\n",
       "      <td>7.9</td>\n",
       "      <td>82,705</td>\n",
       "      <td>Adventure, Horror, Sci-Fi</td>\n",
       "      <td>100</td>\n",
       "      <td>Film</td>\n",
       "      <td>Passed</td>\n",
       "      <td>-</td>\n",
       "      <td>Mild</td>\n",
       "      <td>Moderate</td>\n",
       "      <td>None</td>\n",
       "      <td>Mild</td>\n",
       "      <td>Moderate</td>\n",
       "    </tr>\n",
       "    <tr>\n",
       "      <th>5357</th>\n",
       "      <td>King Kong</td>\n",
       "      <td>1976</td>\n",
       "      <td>5.9</td>\n",
       "      <td>31,536</td>\n",
       "      <td>Adventure, Horror</td>\n",
       "      <td>134</td>\n",
       "      <td>Film</td>\n",
       "      <td>PG</td>\n",
       "      <td>-</td>\n",
       "      <td>Mild</td>\n",
       "      <td>Moderate</td>\n",
       "      <td>Mild</td>\n",
       "      <td>Mild</td>\n",
       "      <td>Moderate</td>\n",
       "    </tr>\n",
       "    <tr>\n",
       "      <th>6101</th>\n",
       "      <td>King Kong</td>\n",
       "      <td>1933</td>\n",
       "      <td>7.9</td>\n",
       "      <td>82,705</td>\n",
       "      <td>Adventure, Horror, Sci-Fi</td>\n",
       "      <td>100</td>\n",
       "      <td>Film</td>\n",
       "      <td>Passed</td>\n",
       "      <td>-</td>\n",
       "      <td>Mild</td>\n",
       "      <td>Moderate</td>\n",
       "      <td>None</td>\n",
       "      <td>Mild</td>\n",
       "      <td>Moderate</td>\n",
       "    </tr>\n",
       "  </tbody>\n",
       "</table>\n",
       "</div>"
      ],
      "text/plain": [
       "           Name  Date Rate    Votes                      Genre Duration  Type  \\\n",
       "2084  King Kong  2005  7.2  407,876   Action, Adventure, Drama     187   Film   \n",
       "4207  King Kong  1976  5.9   31,536          Adventure, Horror     134   Film   \n",
       "4951  King Kong  1933  7.9   82,705  Adventure, Horror, Sci-Fi     100   Film   \n",
       "5357  King Kong  1976  5.9   31,536          Adventure, Horror     134   Film   \n",
       "6101  King Kong  1933  7.9   82,705  Adventure, Horror, Sci-Fi     100   Film   \n",
       "\n",
       "     Certificate Episodes Nudity  Violence Profanity Alcohol Frightening  \n",
       "2084       PG-13        -   Mild  Moderate      Mild    Mild    Moderate  \n",
       "4207          PG        -   Mild  Moderate      Mild    Mild    Moderate  \n",
       "4951      Passed        -   Mild  Moderate      None    Mild    Moderate  \n",
       "5357          PG        -   Mild  Moderate      Mild    Mild    Moderate  \n",
       "6101      Passed        -   Mild  Moderate      None    Mild    Moderate  "
      ]
     },
     "execution_count": 17,
     "metadata": {},
     "output_type": "execute_result"
    }
   ],
   "source": [
    "Fre = Imdb_df.loc[Imdb_df.Name=='King Kong'] \n",
    "Fre"
   ]
  },
  {
   "cell_type": "markdown",
   "metadata": {},
   "source": [
    "By the description of \"Name\" feature, thaught \"King Kong\" is duplicated row. But it is not with the above output."
   ]
  },
  {
   "cell_type": "code",
   "execution_count": 18,
   "metadata": {},
   "outputs": [
    {
     "data": {
      "text/plain": [
       "Name           False\n",
       "Date           False\n",
       "Rate           False\n",
       "Votes          False\n",
       "Genre          False\n",
       "Duration       False\n",
       "Type           False\n",
       "Certificate    False\n",
       "Episodes       False\n",
       "Nudity         False\n",
       "Violence       False\n",
       "Profanity      False\n",
       "Alcohol        False\n",
       "Frightening    False\n",
       "dtype: bool"
      ]
     },
     "execution_count": 18,
     "metadata": {},
     "output_type": "execute_result"
    }
   ],
   "source": [
    "#Finding Columns with Missing Values\n",
    "Imdb_df.isna().any()"
   ]
  },
  {
   "cell_type": "markdown",
   "metadata": {},
   "source": [
    "As of now, the features are not having missing values. Let's see it after couple of steps again."
   ]
  },
  {
   "cell_type": "markdown",
   "metadata": {},
   "source": [
    "The features \"Rate\", \"Votes\", and \"Duration\" should be numeric. So convert the type of respective features to numeric."
   ]
  },
  {
   "cell_type": "markdown",
   "metadata": {},
   "source": [
    "In a given dataset Votes are given as 107,163 (comma supprated value). To change the type of \"Votes\" feature, first I am converting 107,163 type of values to 107163 by the below code."
   ]
  },
  {
   "cell_type": "code",
   "execution_count": 19,
   "metadata": {},
   "outputs": [],
   "source": [
    "for i in range(0,Imdb_df.shape[0]):\n",
    "  Imdb_df['Votes'][i] = Imdb_df['Votes'][i].replace(',', '')"
   ]
  },
  {
   "cell_type": "code",
   "execution_count": 20,
   "metadata": {},
   "outputs": [
    {
     "data": {
      "text/plain": [
       "0       107163\n",
       "1        64375\n",
       "2        27145\n",
       "3        30443\n",
       "4        84636\n",
       "         ...  \n",
       "6173     37492\n",
       "6174    150448\n",
       "6175    100668\n",
       "6176       887\n",
       "6177    203578\n",
       "Name: Votes, Length: 6178, dtype: object"
      ]
     },
     "execution_count": 20,
     "metadata": {},
     "output_type": "execute_result"
    }
   ],
   "source": [
    "Imdb_df['Votes']"
   ]
  },
  {
   "cell_type": "code",
   "execution_count": 21,
   "metadata": {},
   "outputs": [],
   "source": [
    "Imdb_df['Rate'] = pd.to_numeric(Imdb_df['Rate'], errors='coerce', downcast=\"integer\")\n",
    "Imdb_df['Votes'] = pd.to_numeric(Imdb_df['Votes'], errors='coerce', downcast=\"integer\")\n",
    "Imdb_df['Duration'] = pd.to_numeric(Imdb_df['Duration'], errors='coerce', downcast=\"integer\")"
   ]
  },
  {
   "cell_type": "code",
   "execution_count": 22,
   "metadata": {},
   "outputs": [
    {
     "name": "stdout",
     "output_type": "stream",
     "text": [
      "<class 'pandas.core.frame.DataFrame'>\n",
      "RangeIndex: 6178 entries, 0 to 6177\n",
      "Data columns (total 14 columns):\n",
      " #   Column       Non-Null Count  Dtype  \n",
      "---  ------       --------------  -----  \n",
      " 0   Name         6178 non-null   object \n",
      " 1   Date         6178 non-null   int64  \n",
      " 2   Rate         5993 non-null   float64\n",
      " 3   Votes        5993 non-null   float64\n",
      " 4   Genre        6178 non-null   object \n",
      " 5   Duration     5877 non-null   float64\n",
      " 6   Type         6178 non-null   object \n",
      " 7   Certificate  6178 non-null   object \n",
      " 8   Episodes     6178 non-null   object \n",
      " 9   Nudity       6178 non-null   object \n",
      " 10  Violence     6178 non-null   object \n",
      " 11  Profanity    6178 non-null   object \n",
      " 12  Alcohol      6178 non-null   object \n",
      " 13  Frightening  6178 non-null   object \n",
      "dtypes: float64(3), int64(1), object(10)\n",
      "memory usage: 675.8+ KB\n"
     ]
    }
   ],
   "source": [
    "Imdb_df.info()"
   ]
  },
  {
   "cell_type": "markdown",
   "metadata": {},
   "source": [
    "Now the features \"Rate\", \"Votes\", and \"Duration\" are of numeric type."
   ]
  },
  {
   "cell_type": "code",
   "execution_count": 23,
   "metadata": {},
   "outputs": [
    {
     "data": {
      "text/plain": [
       "Name             0\n",
       "Date             0\n",
       "Rate           185\n",
       "Votes          185\n",
       "Genre            0\n",
       "Duration       301\n",
       "Type             0\n",
       "Certificate      0\n",
       "Episodes         0\n",
       "Nudity           0\n",
       "Violence         0\n",
       "Profanity        0\n",
       "Alcohol          0\n",
       "Frightening      0\n",
       "dtype: int64"
      ]
     },
     "execution_count": 23,
     "metadata": {},
     "output_type": "execute_result"
    }
   ],
   "source": [
    "Imdb_df.isnull().sum()"
   ]
  },
  {
   "cell_type": "code",
   "execution_count": null,
   "metadata": {},
   "outputs": [],
   "source": [
    "Oops! Now the features \"Rate\", \"Votes\", and \"Duration\" having missing values as 'NaN'. \n",
    "Clean the NaN values by imputing 0 inplace of 'NaN'."
   ]
  },
  {
   "cell_type": "code",
   "execution_count": 24,
   "metadata": {},
   "outputs": [],
   "source": [
    "Imdb_df['Rate'] = Imdb_df['Rate'].replace(np.nan, 0)\n",
    "Imdb_df['Votes'] = Imdb_df['Votes'].replace(np.nan, 0)\n",
    "Imdb_df['Duration'] = Imdb_df['Duration'].replace(np.nan, 0)"
   ]
  },
  {
   "cell_type": "code",
   "execution_count": 25,
   "metadata": {},
   "outputs": [
    {
     "data": {
      "text/plain": [
       "Name           0\n",
       "Date           0\n",
       "Rate           0\n",
       "Votes          0\n",
       "Genre          0\n",
       "Duration       0\n",
       "Type           0\n",
       "Certificate    0\n",
       "Episodes       0\n",
       "Nudity         0\n",
       "Violence       0\n",
       "Profanity      0\n",
       "Alcohol        0\n",
       "Frightening    0\n",
       "dtype: int64"
      ]
     },
     "execution_count": 25,
     "metadata": {},
     "output_type": "execute_result"
    }
   ],
   "source": [
    "Imdb_df.isnull().sum()"
   ]
  },
  {
   "cell_type": "code",
   "execution_count": 26,
   "metadata": {},
   "outputs": [
    {
     "data": {
      "text/html": [
       "<div>\n",
       "<style scoped>\n",
       "    .dataframe tbody tr th:only-of-type {\n",
       "        vertical-align: middle;\n",
       "    }\n",
       "\n",
       "    .dataframe tbody tr th {\n",
       "        vertical-align: top;\n",
       "    }\n",
       "\n",
       "    .dataframe thead th {\n",
       "        text-align: right;\n",
       "    }\n",
       "</style>\n",
       "<table border=\"1\" class=\"dataframe\">\n",
       "  <thead>\n",
       "    <tr style=\"text-align: right;\">\n",
       "      <th></th>\n",
       "      <th>Date</th>\n",
       "      <th>Rate</th>\n",
       "      <th>Votes</th>\n",
       "      <th>Duration</th>\n",
       "    </tr>\n",
       "  </thead>\n",
       "  <tbody>\n",
       "    <tr>\n",
       "      <th>count</th>\n",
       "      <td>6178.000000</td>\n",
       "      <td>6178.000000</td>\n",
       "      <td>6.178000e+03</td>\n",
       "      <td>6178.000000</td>\n",
       "    </tr>\n",
       "    <tr>\n",
       "      <th>mean</th>\n",
       "      <td>2005.952574</td>\n",
       "      <td>6.670751</td>\n",
       "      <td>1.186994e+05</td>\n",
       "      <td>89.969084</td>\n",
       "    </tr>\n",
       "    <tr>\n",
       "      <th>std</th>\n",
       "      <td>15.910248</td>\n",
       "      <td>1.584147</td>\n",
       "      <td>1.912752e+05</td>\n",
       "      <td>45.541366</td>\n",
       "    </tr>\n",
       "    <tr>\n",
       "      <th>min</th>\n",
       "      <td>1922.000000</td>\n",
       "      <td>0.000000</td>\n",
       "      <td>0.000000e+00</td>\n",
       "      <td>0.000000</td>\n",
       "    </tr>\n",
       "    <tr>\n",
       "      <th>25%</th>\n",
       "      <td>1998.000000</td>\n",
       "      <td>6.200000</td>\n",
       "      <td>1.221275e+04</td>\n",
       "      <td>60.000000</td>\n",
       "    </tr>\n",
       "    <tr>\n",
       "      <th>50%</th>\n",
       "      <td>2011.000000</td>\n",
       "      <td>6.900000</td>\n",
       "      <td>5.364250e+04</td>\n",
       "      <td>98.000000</td>\n",
       "    </tr>\n",
       "    <tr>\n",
       "      <th>75%</th>\n",
       "      <td>2019.000000</td>\n",
       "      <td>7.600000</td>\n",
       "      <td>1.437282e+05</td>\n",
       "      <td>115.000000</td>\n",
       "    </tr>\n",
       "    <tr>\n",
       "      <th>max</th>\n",
       "      <td>2023.000000</td>\n",
       "      <td>9.700000</td>\n",
       "      <td>2.474122e+06</td>\n",
       "      <td>900.000000</td>\n",
       "    </tr>\n",
       "  </tbody>\n",
       "</table>\n",
       "</div>"
      ],
      "text/plain": [
       "              Date         Rate         Votes     Duration\n",
       "count  6178.000000  6178.000000  6.178000e+03  6178.000000\n",
       "mean   2005.952574     6.670751  1.186994e+05    89.969084\n",
       "std      15.910248     1.584147  1.912752e+05    45.541366\n",
       "min    1922.000000     0.000000  0.000000e+00     0.000000\n",
       "25%    1998.000000     6.200000  1.221275e+04    60.000000\n",
       "50%    2011.000000     6.900000  5.364250e+04    98.000000\n",
       "75%    2019.000000     7.600000  1.437282e+05   115.000000\n",
       "max    2023.000000     9.700000  2.474122e+06   900.000000"
      ]
     },
     "execution_count": 26,
     "metadata": {},
     "output_type": "execute_result"
    }
   ],
   "source": [
    "#Again describe\n",
    "Imdb_df.describe()"
   ]
  },
  {
   "cell_type": "code",
   "execution_count": 27,
   "metadata": {},
   "outputs": [
    {
     "data": {
      "text/html": [
       "<div>\n",
       "<style scoped>\n",
       "    .dataframe tbody tr th:only-of-type {\n",
       "        vertical-align: middle;\n",
       "    }\n",
       "\n",
       "    .dataframe tbody tr th {\n",
       "        vertical-align: top;\n",
       "    }\n",
       "\n",
       "    .dataframe thead th {\n",
       "        text-align: right;\n",
       "    }\n",
       "</style>\n",
       "<table border=\"1\" class=\"dataframe\">\n",
       "  <thead>\n",
       "    <tr style=\"text-align: right;\">\n",
       "      <th></th>\n",
       "      <th>Name</th>\n",
       "      <th>Genre</th>\n",
       "      <th>Type</th>\n",
       "      <th>Certificate</th>\n",
       "      <th>Episodes</th>\n",
       "      <th>Nudity</th>\n",
       "      <th>Violence</th>\n",
       "      <th>Profanity</th>\n",
       "      <th>Alcohol</th>\n",
       "      <th>Frightening</th>\n",
       "    </tr>\n",
       "  </thead>\n",
       "  <tbody>\n",
       "    <tr>\n",
       "      <th>count</th>\n",
       "      <td>6178</td>\n",
       "      <td>6178</td>\n",
       "      <td>6178</td>\n",
       "      <td>6178</td>\n",
       "      <td>6178</td>\n",
       "      <td>6178</td>\n",
       "      <td>6178</td>\n",
       "      <td>6178</td>\n",
       "      <td>6178</td>\n",
       "      <td>6178</td>\n",
       "    </tr>\n",
       "    <tr>\n",
       "      <th>unique</th>\n",
       "      <td>4820</td>\n",
       "      <td>377</td>\n",
       "      <td>2</td>\n",
       "      <td>23</td>\n",
       "      <td>284</td>\n",
       "      <td>5</td>\n",
       "      <td>5</td>\n",
       "      <td>5</td>\n",
       "      <td>5</td>\n",
       "      <td>5</td>\n",
       "    </tr>\n",
       "    <tr>\n",
       "      <th>top</th>\n",
       "      <td>King Kong</td>\n",
       "      <td>Comedy</td>\n",
       "      <td>Film</td>\n",
       "      <td>R</td>\n",
       "      <td>-</td>\n",
       "      <td>Mild</td>\n",
       "      <td>Moderate</td>\n",
       "      <td>Mild</td>\n",
       "      <td>Mild</td>\n",
       "      <td>Moderate</td>\n",
       "    </tr>\n",
       "    <tr>\n",
       "      <th>freq</th>\n",
       "      <td>5</td>\n",
       "      <td>268</td>\n",
       "      <td>4446</td>\n",
       "      <td>1885</td>\n",
       "      <td>4446</td>\n",
       "      <td>2292</td>\n",
       "      <td>1814</td>\n",
       "      <td>2077</td>\n",
       "      <td>3257</td>\n",
       "      <td>1969</td>\n",
       "    </tr>\n",
       "  </tbody>\n",
       "</table>\n",
       "</div>"
      ],
      "text/plain": [
       "             Name   Genre  Type Certificate Episodes Nudity  Violence  \\\n",
       "count        6178    6178  6178        6178     6178   6178      6178   \n",
       "unique       4820     377     2          23      284      5         5   \n",
       "top     King Kong  Comedy  Film           R        -   Mild  Moderate   \n",
       "freq            5     268  4446        1885     4446   2292      1814   \n",
       "\n",
       "       Profanity Alcohol Frightening  \n",
       "count       6178    6178        6178  \n",
       "unique         5       5           5  \n",
       "top         Mild    Mild    Moderate  \n",
       "freq        2077    3257        1969  "
      ]
     },
     "execution_count": 27,
     "metadata": {},
     "output_type": "execute_result"
    }
   ],
   "source": [
    "\n",
    "Imdb_df.describe(include = 'object')"
   ]
  },
  {
   "cell_type": "code",
   "execution_count": 95,
   "metadata": {},
   "outputs": [],
   "source": [
    "#Df = Imdb_df.drop_duplicates(inplace = True)\n",
    "#Df = Imdb_df.copy()"
   ]
  },
  {
   "cell_type": "code",
   "execution_count": 97,
   "metadata": {},
   "outputs": [],
   "source": [
    "#Df.drop_duplicates(inplace = True)"
   ]
  },
  {
   "cell_type": "code",
   "execution_count": 28,
   "metadata": {},
   "outputs": [],
   "source": [
    "#Df.describe(include = 'object')"
   ]
  },
  {
   "cell_type": "code",
   "execution_count": 29,
   "metadata": {},
   "outputs": [],
   "source": [
    "#Fre = Df.loc[Df.Name=='Robin Hood'] \n",
    "#Fre"
   ]
  },
  {
   "cell_type": "code",
   "execution_count": 30,
   "metadata": {},
   "outputs": [],
   "source": [
    "import jovian"
   ]
  },
  {
   "cell_type": "code",
   "execution_count": 31,
   "metadata": {},
   "outputs": [
    {
     "data": {
      "application/javascript": [
       "window.require && require([\"base/js/namespace\"],function(Jupyter){Jupyter.notebook.save_checkpoint()})"
      ],
      "text/plain": [
       "<IPython.core.display.Javascript object>"
      ]
     },
     "metadata": {},
     "output_type": "display_data"
    },
    {
     "name": "stdout",
     "output_type": "stream",
     "text": [
      "[jovian] Updating notebook \"azizforai/eda-imdb-movies-series-aziz\" on https://jovian.ai\u001b[0m\n",
      "[jovian] Committed successfully! https://jovian.ai/azizforai/eda-imdb-movies-series-aziz\u001b[0m\n"
     ]
    },
    {
     "data": {
      "text/plain": [
       "'https://jovian.ai/azizforai/eda-imdb-movies-series-aziz'"
      ]
     },
     "execution_count": 31,
     "metadata": {},
     "output_type": "execute_result"
    }
   ],
   "source": [
    "jovian.commit()"
   ]
  },
  {
   "cell_type": "markdown",
   "metadata": {},
   "source": [
    "## Exploratory Analysis and Visualization\n",
    "\n",
    "In EDA, visualization is very important. Raw text or numbers can not speak much but figures definitely gives more insights about data.\n"
   ]
  },
  {
   "cell_type": "markdown",
   "metadata": {},
   "source": [
    "Let's begin by importing`matplotlib.pyplot` and `seaborn`."
   ]
  },
  {
   "cell_type": "code",
   "execution_count": 32,
   "metadata": {},
   "outputs": [],
   "source": [
    "import seaborn as sns\n",
    "import matplotlib\n",
    "import matplotlib.pyplot as plt\n",
    "%matplotlib inline\n",
    "\n",
    "sns.set_style('darkgrid')\n",
    "matplotlib.rcParams['font.size'] = 14\n",
    "matplotlib.rcParams['figure.figsize'] = (9, 5)\n",
    "matplotlib.rcParams['figure.facecolor'] = '#00000000'"
   ]
  },
  {
   "cell_type": "code",
   "execution_count": 34,
   "metadata": {},
   "outputs": [
    {
     "data": {
      "text/html": [
       "<div>\n",
       "<style scoped>\n",
       "    .dataframe tbody tr th:only-of-type {\n",
       "        vertical-align: middle;\n",
       "    }\n",
       "\n",
       "    .dataframe tbody tr th {\n",
       "        vertical-align: top;\n",
       "    }\n",
       "\n",
       "    .dataframe thead th {\n",
       "        text-align: right;\n",
       "    }\n",
       "</style>\n",
       "<table border=\"1\" class=\"dataframe\">\n",
       "  <thead>\n",
       "    <tr style=\"text-align: right;\">\n",
       "      <th></th>\n",
       "      <th>Name</th>\n",
       "      <th>Date</th>\n",
       "      <th>Rate</th>\n",
       "      <th>Votes</th>\n",
       "      <th>Genre</th>\n",
       "      <th>Duration</th>\n",
       "      <th>Type</th>\n",
       "      <th>Certificate</th>\n",
       "      <th>Episodes</th>\n",
       "      <th>Nudity</th>\n",
       "      <th>Violence</th>\n",
       "      <th>Profanity</th>\n",
       "      <th>Alcohol</th>\n",
       "      <th>Frightening</th>\n",
       "    </tr>\n",
       "  </thead>\n",
       "  <tbody>\n",
       "    <tr>\n",
       "      <th>0</th>\n",
       "      <td>No Time to Die</td>\n",
       "      <td>2021</td>\n",
       "      <td>7.6</td>\n",
       "      <td>107163.0</td>\n",
       "      <td>Action, Adventure, Thriller</td>\n",
       "      <td>163.0</td>\n",
       "      <td>Film</td>\n",
       "      <td>PG-13</td>\n",
       "      <td>-</td>\n",
       "      <td>Mild</td>\n",
       "      <td>Moderate</td>\n",
       "      <td>Mild</td>\n",
       "      <td>Mild</td>\n",
       "      <td>Moderate</td>\n",
       "    </tr>\n",
       "    <tr>\n",
       "      <th>1</th>\n",
       "      <td>The Guilty</td>\n",
       "      <td>2021</td>\n",
       "      <td>6.3</td>\n",
       "      <td>64375.0</td>\n",
       "      <td>Crime, Drama, Thriller</td>\n",
       "      <td>90.0</td>\n",
       "      <td>Film</td>\n",
       "      <td>R</td>\n",
       "      <td>-</td>\n",
       "      <td>None</td>\n",
       "      <td>None</td>\n",
       "      <td>Severe</td>\n",
       "      <td>None</td>\n",
       "      <td>Moderate</td>\n",
       "    </tr>\n",
       "    <tr>\n",
       "      <th>2</th>\n",
       "      <td>The Many Saints of Newark</td>\n",
       "      <td>2021</td>\n",
       "      <td>6.4</td>\n",
       "      <td>27145.0</td>\n",
       "      <td>Crime, Drama</td>\n",
       "      <td>120.0</td>\n",
       "      <td>Film</td>\n",
       "      <td>R</td>\n",
       "      <td>-</td>\n",
       "      <td>Moderate</td>\n",
       "      <td>Severe</td>\n",
       "      <td>Severe</td>\n",
       "      <td>Moderate</td>\n",
       "      <td>Moderate</td>\n",
       "    </tr>\n",
       "    <tr>\n",
       "      <th>3</th>\n",
       "      <td>Venom: Let There Be Carnage</td>\n",
       "      <td>2021</td>\n",
       "      <td>6.4</td>\n",
       "      <td>30443.0</td>\n",
       "      <td>Action, Adventure, Sci-Fi</td>\n",
       "      <td>97.0</td>\n",
       "      <td>Film</td>\n",
       "      <td>PG-13</td>\n",
       "      <td>-</td>\n",
       "      <td>None</td>\n",
       "      <td>Moderate</td>\n",
       "      <td>Moderate</td>\n",
       "      <td>Mild</td>\n",
       "      <td>Moderate</td>\n",
       "    </tr>\n",
       "    <tr>\n",
       "      <th>4</th>\n",
       "      <td>Dune</td>\n",
       "      <td>2021</td>\n",
       "      <td>8.3</td>\n",
       "      <td>84636.0</td>\n",
       "      <td>Action, Adventure, Drama</td>\n",
       "      <td>155.0</td>\n",
       "      <td>Film</td>\n",
       "      <td>PG-13</td>\n",
       "      <td>-</td>\n",
       "      <td>None</td>\n",
       "      <td>Moderate</td>\n",
       "      <td>None</td>\n",
       "      <td>Mild</td>\n",
       "      <td>Moderate</td>\n",
       "    </tr>\n",
       "  </tbody>\n",
       "</table>\n",
       "</div>"
      ],
      "text/plain": [
       "                          Name  Date  Rate     Votes  \\\n",
       "0               No Time to Die  2021   7.6  107163.0   \n",
       "1                   The Guilty  2021   6.3   64375.0   \n",
       "2    The Many Saints of Newark  2021   6.4   27145.0   \n",
       "3  Venom: Let There Be Carnage  2021   6.4   30443.0   \n",
       "4                         Dune  2021   8.3   84636.0   \n",
       "\n",
       "                         Genre  Duration  Type Certificate Episodes    Nudity  \\\n",
       "0  Action, Adventure, Thriller     163.0  Film       PG-13        -      Mild   \n",
       "1       Crime, Drama, Thriller      90.0  Film           R        -      None   \n",
       "2                 Crime, Drama     120.0  Film           R        -  Moderate   \n",
       "3    Action, Adventure, Sci-Fi      97.0  Film       PG-13        -      None   \n",
       "4     Action, Adventure, Drama     155.0  Film       PG-13        -      None   \n",
       "\n",
       "   Violence Profanity   Alcohol Frightening  \n",
       "0  Moderate      Mild      Mild    Moderate  \n",
       "1      None    Severe      None    Moderate  \n",
       "2    Severe    Severe  Moderate    Moderate  \n",
       "3  Moderate  Moderate      Mild    Moderate  \n",
       "4  Moderate      None      Mild    Moderate  "
      ]
     },
     "execution_count": 34,
     "metadata": {},
     "output_type": "execute_result"
    }
   ],
   "source": [
    "Imdb_df.head(5)"
   ]
  },
  {
   "cell_type": "markdown",
   "metadata": {},
   "source": [
    "# Let's do Univariate Analysis"
   ]
  },
  {
   "cell_type": "markdown",
   "metadata": {},
   "source": [
    "1) Year wise movies and web series count."
   ]
  },
  {
   "cell_type": "code",
   "execution_count": 36,
   "metadata": {},
   "outputs": [
    {
     "data": {
      "image/png": "[encoded data removed]",
      "text/plain": [
       "<Figure size 1440x360 with 1 Axes>"
      ]
     },
     "metadata": {
      "needs_background": "light"
     },
     "output_type": "display_data"
    }
   ],
   "source": [
    "plt.figure(figsize=(20,5))\n",
    "sns.set(style='dark')\n",
    "sns.countplot(Imdb_df['Date'].sort_values(ascending=False))\n",
    "plt.xticks(rotation=90)\n",
    "plt.show()"
   ]
  },
  {
   "cell_type": "markdown",
   "metadata": {},
   "source": [
    "It shows that more movies and web series are released in 2021 (around 700+)."
   ]
  },
  {
   "cell_type": "code",
   "execution_count": 102,
   "metadata": {},
   "outputs": [
    {
     "data": {
      "text/plain": [
       "<AxesSubplot:xlabel='Rate', ylabel='Count'>"
      ]
     },
     "execution_count": 102,
     "metadata": {},
     "output_type": "execute_result"
    },
    {
     "data": {
      "image/png": "[encoded data removed]",
      "text/plain": [
       "<Figure size 720x504 with 1 Axes>"
      ]
     },
     "metadata": {},
     "output_type": "display_data"
    }
   ],
   "source": [
    "plt.figure(figsize=(10,7))\n",
    "sns.set(style='dark')\n",
    "sns.histplot(data=Imdb_df,x='Rate',color='indigo',binwidth=1)"
   ]
  },
  {
   "cell_type": "markdown",
   "metadata": {},
   "source": [
    "Rating distribution for Imdb_df dataframe between 6 to 8."
   ]
  },
  {
   "cell_type": "code",
   "execution_count": 38,
   "metadata": {},
   "outputs": [
    {
     "data": {
      "text/plain": [
       "(array([ 0,  1,  2,  3,  4,  5,  6,  7,  8,  9, 10, 11, 12, 13, 14, 15, 16,\n",
       "        17, 18, 19, 20, 21, 22]),\n",
       " [Text(0, 0, 'PG-13'),\n",
       "  Text(1, 0, 'R'),\n",
       "  Text(2, 0, 'TV-MA'),\n",
       "  Text(3, 0, 'None'),\n",
       "  Text(4, 0, 'TV-14'),\n",
       "  Text(5, 0, 'TV-PG'),\n",
       "  Text(6, 0, 'PG'),\n",
       "  Text(7, 0, 'TV-G'),\n",
       "  Text(8, 0, '(Banned)'),\n",
       "  Text(9, 0, 'Not Rated'),\n",
       "  Text(10, 0, 'E'),\n",
       "  Text(11, 0, 'NC-17'),\n",
       "  Text(12, 0, 'TV-Y7-FV'),\n",
       "  Text(13, 0, 'TV-Y7'),\n",
       "  Text(14, 0, 'Unrated'),\n",
       "  Text(15, 0, 'Approved'),\n",
       "  Text(16, 0, 'G'),\n",
       "  Text(17, 0, 'TV-Y'),\n",
       "  Text(18, 0, 'GP'),\n",
       "  Text(19, 0, 'Passed'),\n",
       "  Text(20, 0, 'M'),\n",
       "  Text(21, 0, 'X'),\n",
       "  Text(22, 0, 'M/PG')])"
      ]
     },
     "execution_count": 38,
     "metadata": {},
     "output_type": "execute_result"
    },
    {
     "data": {
      "image/png": "[encoded data removed]",
      "text/plain": [
       "<Figure size 1152x432 with 1 Axes>"
      ]
     },
     "metadata": {},
     "output_type": "display_data"
    }
   ],
   "source": [
    "plt.figure(figsize=(16, 6))\n",
    "plot = sns.countplot(x='Certificate', data=Imdb_df);\n",
    "plt.xticks(rotation = 90)"
   ]
  },
  {
   "cell_type": "markdown",
   "metadata": {},
   "source": [
    "Gripping to look at this. More movies and web series were of certificate  \"R: Restricted. May be inappropriate for ages 17 and under\". Let's examine more on this."
   ]
  },
  {
   "cell_type": "code",
   "execution_count": 40,
   "metadata": {},
   "outputs": [
    {
     "data": {
      "text/html": [
       "<div>\n",
       "<style scoped>\n",
       "    .dataframe tbody tr th:only-of-type {\n",
       "        vertical-align: middle;\n",
       "    }\n",
       "\n",
       "    .dataframe tbody tr th {\n",
       "        vertical-align: top;\n",
       "    }\n",
       "\n",
       "    .dataframe thead th {\n",
       "        text-align: right;\n",
       "    }\n",
       "</style>\n",
       "<table border=\"1\" class=\"dataframe\">\n",
       "  <thead>\n",
       "    <tr style=\"text-align: right;\">\n",
       "      <th></th>\n",
       "      <th>Name</th>\n",
       "      <th>Date</th>\n",
       "      <th>Rate</th>\n",
       "      <th>Votes</th>\n",
       "      <th>Genre</th>\n",
       "      <th>Duration</th>\n",
       "      <th>Type</th>\n",
       "      <th>Certificate</th>\n",
       "      <th>Episodes</th>\n",
       "      <th>Nudity</th>\n",
       "      <th>Violence</th>\n",
       "      <th>Profanity</th>\n",
       "      <th>Alcohol</th>\n",
       "      <th>Frightening</th>\n",
       "    </tr>\n",
       "  </thead>\n",
       "  <tbody>\n",
       "    <tr>\n",
       "      <th>1</th>\n",
       "      <td>The Guilty</td>\n",
       "      <td>2021</td>\n",
       "      <td>6.3</td>\n",
       "      <td>64375.0</td>\n",
       "      <td>Crime, Drama, Thriller</td>\n",
       "      <td>90.0</td>\n",
       "      <td>Film</td>\n",
       "      <td>R</td>\n",
       "      <td>-</td>\n",
       "      <td>None</td>\n",
       "      <td>None</td>\n",
       "      <td>Severe</td>\n",
       "      <td>None</td>\n",
       "      <td>Moderate</td>\n",
       "    </tr>\n",
       "    <tr>\n",
       "      <th>2</th>\n",
       "      <td>The Many Saints of Newark</td>\n",
       "      <td>2021</td>\n",
       "      <td>6.4</td>\n",
       "      <td>27145.0</td>\n",
       "      <td>Crime, Drama</td>\n",
       "      <td>120.0</td>\n",
       "      <td>Film</td>\n",
       "      <td>R</td>\n",
       "      <td>-</td>\n",
       "      <td>Moderate</td>\n",
       "      <td>Severe</td>\n",
       "      <td>Severe</td>\n",
       "      <td>Moderate</td>\n",
       "      <td>Moderate</td>\n",
       "    </tr>\n",
       "    <tr>\n",
       "      <th>20</th>\n",
       "      <td>The Last Duel</td>\n",
       "      <td>2021</td>\n",
       "      <td>7.7</td>\n",
       "      <td>6498.0</td>\n",
       "      <td>Action, Drama, History</td>\n",
       "      <td>152.0</td>\n",
       "      <td>Film</td>\n",
       "      <td>R</td>\n",
       "      <td>-</td>\n",
       "      <td>Severe</td>\n",
       "      <td>Severe</td>\n",
       "      <td>Moderate</td>\n",
       "      <td>Mild</td>\n",
       "      <td>Severe</td>\n",
       "    </tr>\n",
       "    <tr>\n",
       "      <th>24</th>\n",
       "      <td>Resident Evil: Welcome to Raccoon City</td>\n",
       "      <td>2021</td>\n",
       "      <td>0.0</td>\n",
       "      <td>0.0</td>\n",
       "      <td>Action, Horror, Mystery</td>\n",
       "      <td>107.0</td>\n",
       "      <td>Film</td>\n",
       "      <td>R</td>\n",
       "      <td>-</td>\n",
       "      <td>No Rate</td>\n",
       "      <td>No Rate</td>\n",
       "      <td>No Rate</td>\n",
       "      <td>No Rate</td>\n",
       "      <td>No Rate</td>\n",
       "    </tr>\n",
       "    <tr>\n",
       "      <th>29</th>\n",
       "      <td>Halloween Kills</td>\n",
       "      <td>2021</td>\n",
       "      <td>6.1</td>\n",
       "      <td>20383.0</td>\n",
       "      <td>Horror, Thriller</td>\n",
       "      <td>105.0</td>\n",
       "      <td>Film</td>\n",
       "      <td>R</td>\n",
       "      <td>-</td>\n",
       "      <td>None</td>\n",
       "      <td>Severe</td>\n",
       "      <td>Severe</td>\n",
       "      <td>Mild</td>\n",
       "      <td>Severe</td>\n",
       "    </tr>\n",
       "    <tr>\n",
       "      <th>...</th>\n",
       "      <td>...</td>\n",
       "      <td>...</td>\n",
       "      <td>...</td>\n",
       "      <td>...</td>\n",
       "      <td>...</td>\n",
       "      <td>...</td>\n",
       "      <td>...</td>\n",
       "      <td>...</td>\n",
       "      <td>...</td>\n",
       "      <td>...</td>\n",
       "      <td>...</td>\n",
       "      <td>...</td>\n",
       "      <td>...</td>\n",
       "      <td>...</td>\n",
       "    </tr>\n",
       "    <tr>\n",
       "      <th>6163</th>\n",
       "      <td>The Assistant</td>\n",
       "      <td>2019</td>\n",
       "      <td>6.3</td>\n",
       "      <td>19964.0</td>\n",
       "      <td>Drama</td>\n",
       "      <td>87.0</td>\n",
       "      <td>Film</td>\n",
       "      <td>R</td>\n",
       "      <td>-</td>\n",
       "      <td>None</td>\n",
       "      <td>None</td>\n",
       "      <td>Mild</td>\n",
       "      <td>Mild</td>\n",
       "      <td>Mild</td>\n",
       "    </tr>\n",
       "    <tr>\n",
       "      <th>6166</th>\n",
       "      <td>Elle</td>\n",
       "      <td>2016</td>\n",
       "      <td>7.1</td>\n",
       "      <td>64036.0</td>\n",
       "      <td>Crime, Drama, Thriller</td>\n",
       "      <td>130.0</td>\n",
       "      <td>Film</td>\n",
       "      <td>R</td>\n",
       "      <td>-</td>\n",
       "      <td>Severe</td>\n",
       "      <td>Severe</td>\n",
       "      <td>Moderate</td>\n",
       "      <td>Mild</td>\n",
       "      <td>Severe</td>\n",
       "    </tr>\n",
       "    <tr>\n",
       "      <th>6170</th>\n",
       "      <td>How High</td>\n",
       "      <td>2001</td>\n",
       "      <td>6.3</td>\n",
       "      <td>56036.0</td>\n",
       "      <td>Comedy, Fantasy</td>\n",
       "      <td>93.0</td>\n",
       "      <td>Film</td>\n",
       "      <td>R</td>\n",
       "      <td>-</td>\n",
       "      <td>Moderate</td>\n",
       "      <td>Mild</td>\n",
       "      <td>Severe</td>\n",
       "      <td>Severe</td>\n",
       "      <td>None</td>\n",
       "    </tr>\n",
       "    <tr>\n",
       "      <th>6175</th>\n",
       "      <td>Before the Devil Knows You're Dead</td>\n",
       "      <td>2007</td>\n",
       "      <td>7.3</td>\n",
       "      <td>100668.0</td>\n",
       "      <td>Crime, Drama, Thriller</td>\n",
       "      <td>117.0</td>\n",
       "      <td>Film</td>\n",
       "      <td>R</td>\n",
       "      <td>-</td>\n",
       "      <td>Severe</td>\n",
       "      <td>Moderate</td>\n",
       "      <td>Severe</td>\n",
       "      <td>Severe</td>\n",
       "      <td>Severe</td>\n",
       "    </tr>\n",
       "    <tr>\n",
       "      <th>6177</th>\n",
       "      <td>Death Race</td>\n",
       "      <td>2008</td>\n",
       "      <td>6.3</td>\n",
       "      <td>203578.0</td>\n",
       "      <td>Action, Sci-Fi, Thriller</td>\n",
       "      <td>105.0</td>\n",
       "      <td>Film</td>\n",
       "      <td>R</td>\n",
       "      <td>-</td>\n",
       "      <td>Mild</td>\n",
       "      <td>Severe</td>\n",
       "      <td>Severe</td>\n",
       "      <td>Mild</td>\n",
       "      <td>Moderate</td>\n",
       "    </tr>\n",
       "  </tbody>\n",
       "</table>\n",
       "<p>1885 rows × 14 columns</p>\n",
       "</div>"
      ],
      "text/plain": [
       "                                        Name  Date  Rate     Votes  \\\n",
       "1                                 The Guilty  2021   6.3   64375.0   \n",
       "2                  The Many Saints of Newark  2021   6.4   27145.0   \n",
       "20                             The Last Duel  2021   7.7    6498.0   \n",
       "24    Resident Evil: Welcome to Raccoon City  2021   0.0       0.0   \n",
       "29                           Halloween Kills  2021   6.1   20383.0   \n",
       "...                                      ...   ...   ...       ...   \n",
       "6163                           The Assistant  2019   6.3   19964.0   \n",
       "6166                                    Elle  2016   7.1   64036.0   \n",
       "6170                                How High  2001   6.3   56036.0   \n",
       "6175      Before the Devil Knows You're Dead  2007   7.3  100668.0   \n",
       "6177                              Death Race  2008   6.3  203578.0   \n",
       "\n",
       "                         Genre  Duration  Type Certificate Episodes    Nudity  \\\n",
       "1       Crime, Drama, Thriller      90.0  Film           R        -      None   \n",
       "2                 Crime, Drama     120.0  Film           R        -  Moderate   \n",
       "20      Action, Drama, History     152.0  Film           R        -    Severe   \n",
       "24     Action, Horror, Mystery     107.0  Film           R        -   No Rate   \n",
       "29            Horror, Thriller     105.0  Film           R        -      None   \n",
       "...                        ...       ...   ...         ...      ...       ...   \n",
       "6163                     Drama      87.0  Film           R        -      None   \n",
       "6166    Crime, Drama, Thriller     130.0  Film           R        -    Severe   \n",
       "6170           Comedy, Fantasy      93.0  Film           R        -  Moderate   \n",
       "6175    Crime, Drama, Thriller     117.0  Film           R        -    Severe   \n",
       "6177  Action, Sci-Fi, Thriller     105.0  Film           R        -      Mild   \n",
       "\n",
       "      Violence Profanity   Alcohol Frightening  \n",
       "1         None    Severe      None    Moderate  \n",
       "2       Severe    Severe  Moderate    Moderate  \n",
       "20      Severe  Moderate      Mild      Severe  \n",
       "24     No Rate   No Rate   No Rate     No Rate  \n",
       "29      Severe    Severe      Mild      Severe  \n",
       "...        ...       ...       ...         ...  \n",
       "6163      None      Mild      Mild        Mild  \n",
       "6166    Severe  Moderate      Mild      Severe  \n",
       "6170      Mild    Severe    Severe        None  \n",
       "6175  Moderate    Severe    Severe      Severe  \n",
       "6177    Severe    Severe      Mild    Moderate  \n",
       "\n",
       "[1885 rows x 14 columns]"
      ]
     },
     "execution_count": 40,
     "metadata": {},
     "output_type": "execute_result"
    }
   ],
   "source": [
    "R_Certificate = Imdb_df.loc[Imdb_df.Certificate=='R'] \n",
    "R_Certificate"
   ]
  },
  {
   "cell_type": "code",
   "execution_count": 100,
   "metadata": {},
   "outputs": [
    {
     "data": {
      "text/plain": [
       "20      7.7\n",
       "46      7.2\n",
       "124     5.9\n",
       "199     8.2\n",
       "216     7.1\n",
       "       ... \n",
       "6129    7.1\n",
       "6134    7.0\n",
       "6147    7.4\n",
       "6166    7.1\n",
       "6175    7.3\n",
       "Name: Rate, Length: 248, dtype: float64"
      ]
     },
     "execution_count": 100,
     "metadata": {},
     "output_type": "execute_result"
    }
   ],
   "source": [
    "R_Certificate.loc[R_Certificate.Nudity =='Severe']['Rate']"
   ]
  },
  {
   "cell_type": "code",
   "execution_count": 104,
   "metadata": {},
   "outputs": [
    {
     "data": {
      "text/plain": [
       "<AxesSubplot:xlabel='Rate', ylabel='Count'>"
      ]
     },
     "execution_count": 104,
     "metadata": {},
     "output_type": "execute_result"
    },
    {
     "data": {
      "image/png": "[encoded data removed]",
      "text/plain": [
       "<Figure size 720x504 with 1 Axes>"
      ]
     },
     "metadata": {},
     "output_type": "display_data"
    }
   ],
   "source": [
    "plt.figure(figsize=(10,7))\n",
    "sns.set(style='dark')\n",
    "sns.histplot(data=R_Certificate,x=R_Certificate.loc[R_Certificate.Nudity =='Severe']['Rate'],color='indigo',binwidth=1)"
   ]
  },
  {
   "cell_type": "markdown",
   "metadata": {},
   "source": [
    "Maybe Severe the Nudity highly correlated to Rating."
   ]
  },
  {
   "cell_type": "code",
   "execution_count": 43,
   "metadata": {},
   "outputs": [
    {
     "data": {
      "image/png": "[encoded data removed]",
      "text/plain": [
       "<Figure size 360x432 with 1 Axes>"
      ]
     },
     "metadata": {},
     "output_type": "display_data"
    }
   ],
   "source": [
    "plt.figure(figsize=(5, 6))\n",
    "plot = sns.countplot(x='Type', data=R_Certificate)"
   ]
  },
  {
   "cell_type": "markdown",
   "metadata": {},
   "source": [
    "Only films made on R_Certificate. There are no web series."
   ]
  },
  {
   "cell_type": "code",
   "execution_count": 49,
   "metadata": {},
   "outputs": [
    {
     "data": {
      "image/png": "[encoded data removed]",
      "text/plain": [
       "<Figure size 1440x432 with 1 Axes>"
      ]
     },
     "metadata": {},
     "output_type": "display_data"
    }
   ],
   "source": [
    "plt.figure(figsize=(20, 6))\n",
    "plot = sns.distplot(R_Certificate['Rate'], color='g', bins=100)"
   ]
  },
  {
   "cell_type": "markdown",
   "metadata": {},
   "source": [
    "With this information we can see that the Rating of R_Certificate data are right skewed. Maximum films rated between 6 to 8."
   ]
  },
  {
   "cell_type": "markdown",
   "metadata": {},
   "source": [
    "Let's have a look at categorical features \"Nudity\", \"Violence\", \"Profanity\", \"Alcohol\", and \"Frightening\"."
   ]
  },
  {
   "cell_type": "code",
   "execution_count": 50,
   "metadata": {},
   "outputs": [
    {
     "data": {
      "image/png": "[encoded data removed]",
      "text/plain": [
       "<Figure size 1152x576 with 5 Axes>"
      ]
     },
     "metadata": {},
     "output_type": "display_data"
    }
   ],
   "source": [
    "fig, axes = plt.subplots(2, 3, figsize=(16, 8))\n",
    "\n",
    "\n",
    "sns.countplot(x='Nudity', data=Imdb_df,ax=axes[0,0])\n",
    "sns.countplot(x='Violence', data=Imdb_df,ax=axes[0,1])\n",
    "sns.countplot(x='Profanity', data=Imdb_df,ax=axes[0,2])\n",
    "sns.countplot(x='Alcohol', data=Imdb_df,ax=axes[1,0])\n",
    "sns.countplot(x='Frightening', data=Imdb_df,ax=axes[1,1])\n",
    "#sns.countplot(x='Certificate', data=Imdb_df, ax=axes[1,2])\n",
    "fig.delaxes(ax=axes[1,2])"
   ]
  },
  {
   "cell_type": "markdown",
   "metadata": {},
   "source": [
    "# Let's do Bivariate / Multivariate Analysis."
   ]
  },
  {
   "cell_type": "markdown",
   "metadata": {},
   "source": [
    "Let's have a look at relation between \"Rate\" and \"Votes\" of Imdb_df dataframe."
   ]
  },
  {
   "cell_type": "code",
   "execution_count": 53,
   "metadata": {},
   "outputs": [
    {
     "data": {
      "image/png": "[encoded data removed]",
      "text/plain": [
       "<Figure size 1440x432 with 1 Axes>"
      ]
     },
     "metadata": {},
     "output_type": "display_data"
    }
   ],
   "source": [
    "plt.figure(figsize=(20, 6))\n",
    "sns.scatterplot(x=Imdb_df.Rate, y=Imdb_df.Votes);"
   ]
  },
  {
   "cell_type": "markdown",
   "metadata": {},
   "source": [
    "By the above, we can say that the high rated movie or web series having more votes."
   ]
  },
  {
   "cell_type": "markdown",
   "metadata": {},
   "source": [
    "Let's look at the heat map or correlation matrix on Imdb_df dataframe. Correlation is applied on numerical features of dataframe. That is we can understand the relation between pairwise numerical features. Here just ignore the Date feature."
   ]
  },
  {
   "cell_type": "code",
   "execution_count": 57,
   "metadata": {},
   "outputs": [],
   "source": [
    "correlations = Imdb_df.corr()"
   ]
  },
  {
   "cell_type": "code",
   "execution_count": 58,
   "metadata": {},
   "outputs": [
    {
     "data": {
      "text/plain": [
       "<AxesSubplot:>"
      ]
     },
     "execution_count": 58,
     "metadata": {},
     "output_type": "execute_result"
    },
    {
     "data": {
      "image/png": "[encoded data removed]",
      "text/plain": [
       "<Figure size 648x504 with 2 Axes>"
      ]
     },
     "metadata": {},
     "output_type": "display_data"
    }
   ],
   "source": [
    "f,ax = plt.subplots(figsize=(9,7))\n",
    "sns.heatmap(correlations, annot=True, cmap=\"YlGnBu\", linewidths=.5)"
   ]
  },
  {
   "cell_type": "markdown",
   "metadata": {},
   "source": [
    "The Heat map clearly shows how closely (\"Rate\", \"Votes\"),(\"Rate\", \"Duration\"), and (\"Votes\", \"Duration\") are related. "
   ]
  },
  {
   "cell_type": "code",
   "execution_count": 61,
   "metadata": {},
   "outputs": [],
   "source": [
    "import jovian"
   ]
  },
  {
   "cell_type": "code",
   "execution_count": 62,
   "metadata": {},
   "outputs": [
    {
     "data": {
      "application/javascript": [
       "window.require && require([\"base/js/namespace\"],function(Jupyter){Jupyter.notebook.save_checkpoint()})"
      ],
      "text/plain": [
       "<IPython.core.display.Javascript object>"
      ]
     },
     "metadata": {},
     "output_type": "display_data"
    },
    {
     "name": "stdout",
     "output_type": "stream",
     "text": [
      "[jovian] Updating notebook \"azizforai/eda-imdb-movies-series-aziz\" on https://jovian.ai\u001b[0m\n",
      "[jovian] Committed successfully! https://jovian.ai/azizforai/eda-imdb-movies-series-aziz\u001b[0m\n"
     ]
    },
    {
     "data": {
      "text/plain": [
       "'https://jovian.ai/azizforai/eda-imdb-movies-series-aziz'"
      ]
     },
     "execution_count": 62,
     "metadata": {},
     "output_type": "execute_result"
    }
   ],
   "source": [
    "jovian.commit()"
   ]
  },
  {
   "cell_type": "markdown",
   "metadata": {},
   "source": [
    "## Asking and Answering Questions\n",
    "\n",
    "Now let's answer some interesting questions in this section.\n",
    "\n"
   ]
  },
  {
   "cell_type": "markdown",
   "metadata": {},
   "source": [
    "#### Q1: Top 10 Films and Web series as per rating."
   ]
  },
  {
   "cell_type": "code",
   "execution_count": 63,
   "metadata": {},
   "outputs": [
    {
     "data": {
      "text/html": [
       "<div>\n",
       "<style scoped>\n",
       "    .dataframe tbody tr th:only-of-type {\n",
       "        vertical-align: middle;\n",
       "    }\n",
       "\n",
       "    .dataframe tbody tr th {\n",
       "        vertical-align: top;\n",
       "    }\n",
       "\n",
       "    .dataframe thead th {\n",
       "        text-align: right;\n",
       "    }\n",
       "</style>\n",
       "<table border=\"1\" class=\"dataframe\">\n",
       "  <thead>\n",
       "    <tr style=\"text-align: right;\">\n",
       "      <th></th>\n",
       "      <th>Name</th>\n",
       "      <th>Date</th>\n",
       "      <th>Rate</th>\n",
       "      <th>Votes</th>\n",
       "      <th>Genre</th>\n",
       "      <th>Duration</th>\n",
       "      <th>Type</th>\n",
       "      <th>Certificate</th>\n",
       "      <th>Episodes</th>\n",
       "      <th>Nudity</th>\n",
       "      <th>Violence</th>\n",
       "      <th>Profanity</th>\n",
       "      <th>Alcohol</th>\n",
       "      <th>Frightening</th>\n",
       "    </tr>\n",
       "  </thead>\n",
       "  <tbody>\n",
       "    <tr>\n",
       "      <th>1946</th>\n",
       "      <td>Aspirants</td>\n",
       "      <td>2004</td>\n",
       "      <td>9.7</td>\n",
       "      <td>286206.0</td>\n",
       "      <td>Drama</td>\n",
       "      <td>45.0</td>\n",
       "      <td>Series</td>\n",
       "      <td>None</td>\n",
       "      <td>5</td>\n",
       "      <td>No Rate</td>\n",
       "      <td>No Rate</td>\n",
       "      <td>No Rate</td>\n",
       "      <td>No Rate</td>\n",
       "      <td>No Rate</td>\n",
       "    </tr>\n",
       "    <tr>\n",
       "      <th>909</th>\n",
       "      <td>The Chosen</td>\n",
       "      <td>2007</td>\n",
       "      <td>9.6</td>\n",
       "      <td>21759.0</td>\n",
       "      <td>Drama, History</td>\n",
       "      <td>54.0</td>\n",
       "      <td>Series</td>\n",
       "      <td>TV-PG</td>\n",
       "      <td>17</td>\n",
       "      <td>None</td>\n",
       "      <td>None</td>\n",
       "      <td>None</td>\n",
       "      <td>None</td>\n",
       "      <td>Mild</td>\n",
       "    </tr>\n",
       "    <tr>\n",
       "      <th>1754</th>\n",
       "      <td>Bluey</td>\n",
       "      <td>2005</td>\n",
       "      <td>9.6</td>\n",
       "      <td>4110.0</td>\n",
       "      <td>Animation, Family</td>\n",
       "      <td>7.0</td>\n",
       "      <td>Series</td>\n",
       "      <td>TV-Y</td>\n",
       "      <td>147</td>\n",
       "      <td>None</td>\n",
       "      <td>None</td>\n",
       "      <td>None</td>\n",
       "      <td>None</td>\n",
       "      <td>None</td>\n",
       "    </tr>\n",
       "    <tr>\n",
       "      <th>2780</th>\n",
       "      <td>Scam 1992: The Harshad Mehta Story</td>\n",
       "      <td>2020</td>\n",
       "      <td>9.5</td>\n",
       "      <td>131914.0</td>\n",
       "      <td>Biography, Crime, Drama</td>\n",
       "      <td>54.0</td>\n",
       "      <td>Series</td>\n",
       "      <td>TV-14</td>\n",
       "      <td>10</td>\n",
       "      <td>None</td>\n",
       "      <td>None</td>\n",
       "      <td>Mild</td>\n",
       "      <td>Mild</td>\n",
       "      <td>None</td>\n",
       "    </tr>\n",
       "    <tr>\n",
       "      <th>52</th>\n",
       "      <td>Breaking Bad</td>\n",
       "      <td>2021</td>\n",
       "      <td>9.4</td>\n",
       "      <td>1593305.0</td>\n",
       "      <td>Crime, Drama, Thriller</td>\n",
       "      <td>49.0</td>\n",
       "      <td>Series</td>\n",
       "      <td>TV-MA</td>\n",
       "      <td>62</td>\n",
       "      <td>Mild</td>\n",
       "      <td>Severe</td>\n",
       "      <td>Moderate</td>\n",
       "      <td>Severe</td>\n",
       "      <td>Severe</td>\n",
       "    </tr>\n",
       "    <tr>\n",
       "      <th>109</th>\n",
       "      <td>The Wire</td>\n",
       "      <td>2021</td>\n",
       "      <td>9.3</td>\n",
       "      <td>306334.0</td>\n",
       "      <td>Crime, Drama, Thriller</td>\n",
       "      <td>59.0</td>\n",
       "      <td>Series</td>\n",
       "      <td>TV-MA</td>\n",
       "      <td>60</td>\n",
       "      <td>Severe</td>\n",
       "      <td>Severe</td>\n",
       "      <td>Severe</td>\n",
       "      <td>Severe</td>\n",
       "      <td>Severe</td>\n",
       "    </tr>\n",
       "    <tr>\n",
       "      <th>201</th>\n",
       "      <td>The Shawshank Redemption</td>\n",
       "      <td>1994</td>\n",
       "      <td>9.3</td>\n",
       "      <td>2474122.0</td>\n",
       "      <td>Drama</td>\n",
       "      <td>142.0</td>\n",
       "      <td>Film</td>\n",
       "      <td>R</td>\n",
       "      <td>-</td>\n",
       "      <td>Mild</td>\n",
       "      <td>Moderate</td>\n",
       "      <td>Severe</td>\n",
       "      <td>Mild</td>\n",
       "      <td>Moderate</td>\n",
       "    </tr>\n",
       "    <tr>\n",
       "      <th>500</th>\n",
       "      <td>Avatar: The Last Airbender</td>\n",
       "      <td>1974</td>\n",
       "      <td>9.3</td>\n",
       "      <td>273781.0</td>\n",
       "      <td>Animation, Action, Adventure</td>\n",
       "      <td>23.0</td>\n",
       "      <td>Series</td>\n",
       "      <td>TV-Y7-FV</td>\n",
       "      <td>62</td>\n",
       "      <td>None</td>\n",
       "      <td>Mild</td>\n",
       "      <td>None</td>\n",
       "      <td>None</td>\n",
       "      <td>Moderate</td>\n",
       "    </tr>\n",
       "    <tr>\n",
       "      <th>819</th>\n",
       "      <td>Toma</td>\n",
       "      <td>2021</td>\n",
       "      <td>9.3</td>\n",
       "      <td>5562.0</td>\n",
       "      <td>Biography, Drama, Music</td>\n",
       "      <td>140.0</td>\n",
       "      <td>Film</td>\n",
       "      <td>None</td>\n",
       "      <td>-</td>\n",
       "      <td>No Rate</td>\n",
       "      <td>No Rate</td>\n",
       "      <td>No Rate</td>\n",
       "      <td>No Rate</td>\n",
       "      <td>No Rate</td>\n",
       "    </tr>\n",
       "    <tr>\n",
       "      <th>13</th>\n",
       "      <td>The Sopranos</td>\n",
       "      <td>2021</td>\n",
       "      <td>9.2</td>\n",
       "      <td>340006.0</td>\n",
       "      <td>Crime, Drama</td>\n",
       "      <td>55.0</td>\n",
       "      <td>Series</td>\n",
       "      <td>TV-MA</td>\n",
       "      <td>86</td>\n",
       "      <td>Severe</td>\n",
       "      <td>Severe</td>\n",
       "      <td>Severe</td>\n",
       "      <td>Severe</td>\n",
       "      <td>Severe</td>\n",
       "    </tr>\n",
       "  </tbody>\n",
       "</table>\n",
       "</div>"
      ],
      "text/plain": [
       "                                    Name  Date  Rate      Votes  \\\n",
       "1946                           Aspirants  2004   9.7   286206.0   \n",
       "909                           The Chosen  2007   9.6    21759.0   \n",
       "1754                               Bluey  2005   9.6     4110.0   \n",
       "2780  Scam 1992: The Harshad Mehta Story  2020   9.5   131914.0   \n",
       "52                          Breaking Bad  2021   9.4  1593305.0   \n",
       "109                             The Wire  2021   9.3   306334.0   \n",
       "201             The Shawshank Redemption  1994   9.3  2474122.0   \n",
       "500           Avatar: The Last Airbender  1974   9.3   273781.0   \n",
       "819                                 Toma  2021   9.3     5562.0   \n",
       "13                          The Sopranos  2021   9.2   340006.0   \n",
       "\n",
       "                             Genre  Duration    Type Certificate Episodes  \\\n",
       "1946                         Drama      45.0  Series        None        5   \n",
       "909                 Drama, History      54.0  Series       TV-PG       17   \n",
       "1754             Animation, Family       7.0  Series        TV-Y      147   \n",
       "2780       Biography, Crime, Drama      54.0  Series       TV-14       10   \n",
       "52          Crime, Drama, Thriller      49.0  Series       TV-MA       62   \n",
       "109         Crime, Drama, Thriller      59.0  Series       TV-MA       60   \n",
       "201                          Drama     142.0    Film           R        -   \n",
       "500   Animation, Action, Adventure      23.0  Series    TV-Y7-FV       62   \n",
       "819        Biography, Drama, Music     140.0    Film        None        -   \n",
       "13                    Crime, Drama      55.0  Series       TV-MA       86   \n",
       "\n",
       "       Nudity  Violence Profanity  Alcohol Frightening  \n",
       "1946  No Rate   No Rate   No Rate  No Rate     No Rate  \n",
       "909      None      None      None     None        Mild  \n",
       "1754     None      None      None     None        None  \n",
       "2780     None      None      Mild     Mild        None  \n",
       "52       Mild    Severe  Moderate   Severe      Severe  \n",
       "109    Severe    Severe    Severe   Severe      Severe  \n",
       "201      Mild  Moderate    Severe     Mild    Moderate  \n",
       "500      None      Mild      None     None    Moderate  \n",
       "819   No Rate   No Rate   No Rate  No Rate     No Rate  \n",
       "13     Severe    Severe    Severe   Severe      Severe  "
      ]
     },
     "execution_count": 63,
     "metadata": {},
     "output_type": "execute_result"
    }
   ],
   "source": [
    "Top_Rated = Imdb_df.nlargest(10, 'Rate')\n",
    "Top_Rated"
   ]
  },
  {
   "cell_type": "code",
   "execution_count": 64,
   "metadata": {},
   "outputs": [
    {
     "data": {
      "image/png": "[encoded data removed]",
      "text/plain": [
       "<Figure size 360x432 with 1 Axes>"
      ]
     },
     "metadata": {},
     "output_type": "display_data"
    }
   ],
   "source": [
    "plt.figure(figsize=(5, 6))\n",
    "plot = sns.countplot(x='Type', data=Top_Rated)"
   ]
  },
  {
   "cell_type": "markdown",
   "metadata": {},
   "source": [
    "From top 10 rated dataframe, majority are web series =8 and Films = 2 only. That is majority of people showing interest on web series. "
   ]
  },
  {
   "cell_type": "code",
   "execution_count": 68,
   "metadata": {},
   "outputs": [
    {
     "data": {
      "text/plain": [
       "1946                             Aspirants\n",
       "909                             The Chosen\n",
       "1754                                 Bluey\n",
       "2780    Scam 1992: The Harshad Mehta Story\n",
       "52                            Breaking Bad\n",
       "109                               The Wire\n",
       "500             Avatar: The Last Airbender\n",
       "13                            The Sopranos\n",
       "Name: Name, dtype: object"
      ]
     },
     "execution_count": 68,
     "metadata": {},
     "output_type": "execute_result"
    }
   ],
   "source": [
    "Top_Rated.loc[Top_Rated.Type=='Series']['Name']"
   ]
  },
  {
   "cell_type": "code",
   "execution_count": 69,
   "metadata": {},
   "outputs": [
    {
     "data": {
      "text/plain": [
       "201    The Shawshank Redemption\n",
       "819                        Toma\n",
       "Name: Name, dtype: object"
      ]
     },
     "execution_count": 69,
     "metadata": {},
     "output_type": "execute_result"
    }
   ],
   "source": [
    "Top_Rated.loc[Top_Rated.Type=='Film']['Name']"
   ]
  },
  {
   "cell_type": "markdown",
   "metadata": {},
   "source": [
    "#### Q2: Top 10 Films as per rating and voting"
   ]
  },
  {
   "cell_type": "code",
   "execution_count": 71,
   "metadata": {},
   "outputs": [
    {
     "data": {
      "text/html": [
       "<div>\n",
       "<style scoped>\n",
       "    .dataframe tbody tr th:only-of-type {\n",
       "        vertical-align: middle;\n",
       "    }\n",
       "\n",
       "    .dataframe tbody tr th {\n",
       "        vertical-align: top;\n",
       "    }\n",
       "\n",
       "    .dataframe thead th {\n",
       "        text-align: right;\n",
       "    }\n",
       "</style>\n",
       "<table border=\"1\" class=\"dataframe\">\n",
       "  <thead>\n",
       "    <tr style=\"text-align: right;\">\n",
       "      <th></th>\n",
       "      <th>Name</th>\n",
       "      <th>Date</th>\n",
       "      <th>Rate</th>\n",
       "      <th>Votes</th>\n",
       "      <th>Genre</th>\n",
       "      <th>Duration</th>\n",
       "      <th>Type</th>\n",
       "      <th>Certificate</th>\n",
       "      <th>Episodes</th>\n",
       "      <th>Nudity</th>\n",
       "      <th>Violence</th>\n",
       "      <th>Profanity</th>\n",
       "      <th>Alcohol</th>\n",
       "      <th>Frightening</th>\n",
       "    </tr>\n",
       "  </thead>\n",
       "  <tbody>\n",
       "    <tr>\n",
       "      <th>0</th>\n",
       "      <td>No Time to Die</td>\n",
       "      <td>2021</td>\n",
       "      <td>7.6</td>\n",
       "      <td>107163.0</td>\n",
       "      <td>Action, Adventure, Thriller</td>\n",
       "      <td>163.0</td>\n",
       "      <td>Film</td>\n",
       "      <td>PG-13</td>\n",
       "      <td>-</td>\n",
       "      <td>Mild</td>\n",
       "      <td>Moderate</td>\n",
       "      <td>Mild</td>\n",
       "      <td>Mild</td>\n",
       "      <td>Moderate</td>\n",
       "    </tr>\n",
       "    <tr>\n",
       "      <th>1</th>\n",
       "      <td>The Guilty</td>\n",
       "      <td>2021</td>\n",
       "      <td>6.3</td>\n",
       "      <td>64375.0</td>\n",
       "      <td>Crime, Drama, Thriller</td>\n",
       "      <td>90.0</td>\n",
       "      <td>Film</td>\n",
       "      <td>R</td>\n",
       "      <td>-</td>\n",
       "      <td>None</td>\n",
       "      <td>None</td>\n",
       "      <td>Severe</td>\n",
       "      <td>None</td>\n",
       "      <td>Moderate</td>\n",
       "    </tr>\n",
       "    <tr>\n",
       "      <th>2</th>\n",
       "      <td>The Many Saints of Newark</td>\n",
       "      <td>2021</td>\n",
       "      <td>6.4</td>\n",
       "      <td>27145.0</td>\n",
       "      <td>Crime, Drama</td>\n",
       "      <td>120.0</td>\n",
       "      <td>Film</td>\n",
       "      <td>R</td>\n",
       "      <td>-</td>\n",
       "      <td>Moderate</td>\n",
       "      <td>Severe</td>\n",
       "      <td>Severe</td>\n",
       "      <td>Moderate</td>\n",
       "      <td>Moderate</td>\n",
       "    </tr>\n",
       "    <tr>\n",
       "      <th>3</th>\n",
       "      <td>Venom: Let There Be Carnage</td>\n",
       "      <td>2021</td>\n",
       "      <td>6.4</td>\n",
       "      <td>30443.0</td>\n",
       "      <td>Action, Adventure, Sci-Fi</td>\n",
       "      <td>97.0</td>\n",
       "      <td>Film</td>\n",
       "      <td>PG-13</td>\n",
       "      <td>-</td>\n",
       "      <td>None</td>\n",
       "      <td>Moderate</td>\n",
       "      <td>Moderate</td>\n",
       "      <td>Mild</td>\n",
       "      <td>Moderate</td>\n",
       "    </tr>\n",
       "    <tr>\n",
       "      <th>4</th>\n",
       "      <td>Dune</td>\n",
       "      <td>2021</td>\n",
       "      <td>8.3</td>\n",
       "      <td>84636.0</td>\n",
       "      <td>Action, Adventure, Drama</td>\n",
       "      <td>155.0</td>\n",
       "      <td>Film</td>\n",
       "      <td>PG-13</td>\n",
       "      <td>-</td>\n",
       "      <td>None</td>\n",
       "      <td>Moderate</td>\n",
       "      <td>None</td>\n",
       "      <td>Mild</td>\n",
       "      <td>Moderate</td>\n",
       "    </tr>\n",
       "  </tbody>\n",
       "</table>\n",
       "</div>"
      ],
      "text/plain": [
       "                          Name  Date  Rate     Votes  \\\n",
       "0               No Time to Die  2021   7.6  107163.0   \n",
       "1                   The Guilty  2021   6.3   64375.0   \n",
       "2    The Many Saints of Newark  2021   6.4   27145.0   \n",
       "3  Venom: Let There Be Carnage  2021   6.4   30443.0   \n",
       "4                         Dune  2021   8.3   84636.0   \n",
       "\n",
       "                         Genre  Duration  Type Certificate Episodes    Nudity  \\\n",
       "0  Action, Adventure, Thriller     163.0  Film       PG-13        -      Mild   \n",
       "1       Crime, Drama, Thriller      90.0  Film           R        -      None   \n",
       "2                 Crime, Drama     120.0  Film           R        -  Moderate   \n",
       "3    Action, Adventure, Sci-Fi      97.0  Film       PG-13        -      None   \n",
       "4     Action, Adventure, Drama     155.0  Film       PG-13        -      None   \n",
       "\n",
       "   Violence Profanity   Alcohol Frightening  \n",
       "0  Moderate      Mild      Mild    Moderate  \n",
       "1      None    Severe      None    Moderate  \n",
       "2    Severe    Severe  Moderate    Moderate  \n",
       "3  Moderate  Moderate      Mild    Moderate  \n",
       "4  Moderate      None      Mild    Moderate  "
      ]
     },
     "execution_count": 71,
     "metadata": {},
     "output_type": "execute_result"
    }
   ],
   "source": [
    "Flim_df = Imdb_df.loc[Imdb_df.Type=='Film']\n",
    "Flim_df.head(5)"
   ]
  },
  {
   "cell_type": "markdown",
   "metadata": {},
   "source": [
    "Top 10 films as per rating."
   ]
  },
  {
   "cell_type": "code",
   "execution_count": 72,
   "metadata": {},
   "outputs": [
    {
     "data": {
      "text/plain": [
       "201     The Shawshank Redemption\n",
       "819                         Toma\n",
       "251                The Godfather\n",
       "3611                Sardar Udham\n",
       "270              The Dark Knight\n",
       "839                 12 Angry Men\n",
       "929       The Godfather: Part II\n",
       "2742            Chal Mera Putt 2\n",
       "320                 Pulp Fiction\n",
       "555             Schindler's List\n",
       "Name: Name, dtype: object"
      ]
     },
     "execution_count": 72,
     "metadata": {},
     "output_type": "execute_result"
    }
   ],
   "source": [
    "Top_Rated_Flims = Flim_df.nlargest(10, 'Rate')\n",
    "Top_Rated_Flims['Name']"
   ]
  },
  {
   "cell_type": "markdown",
   "metadata": {},
   "source": [
    "Top 10 films as per voting."
   ]
  },
  {
   "cell_type": "code",
   "execution_count": 73,
   "metadata": {},
   "outputs": [
    {
     "data": {
      "text/plain": [
       "201                             The Shawshank Redemption\n",
       "270                                      The Dark Knight\n",
       "318                                            Inception\n",
       "339                                           Fight Club\n",
       "320                                         Pulp Fiction\n",
       "435                                         Forrest Gump\n",
       "195                                           The Matrix\n",
       "341    The Lord of the Rings: The Fellowship of the Ring\n",
       "816        The Lord of the Rings: The Return of the King\n",
       "251                                        The Godfather\n",
       "Name: Name, dtype: object"
      ]
     },
     "execution_count": 73,
     "metadata": {},
     "output_type": "execute_result"
    }
   ],
   "source": [
    "Top_Rated_Flims = Flim_df.nlargest(10, 'Votes')\n",
    "Top_Rated_Flims['Name']"
   ]
  },
  {
   "cell_type": "markdown",
   "metadata": {},
   "source": [
    "#### Q3: Top 10 web series as per rating and voting."
   ]
  },
  {
   "cell_type": "code",
   "execution_count": 75,
   "metadata": {},
   "outputs": [
    {
     "data": {
      "text/html": [
       "<div>\n",
       "<style scoped>\n",
       "    .dataframe tbody tr th:only-of-type {\n",
       "        vertical-align: middle;\n",
       "    }\n",
       "\n",
       "    .dataframe tbody tr th {\n",
       "        vertical-align: top;\n",
       "    }\n",
       "\n",
       "    .dataframe thead th {\n",
       "        text-align: right;\n",
       "    }\n",
       "</style>\n",
       "<table border=\"1\" class=\"dataframe\">\n",
       "  <thead>\n",
       "    <tr style=\"text-align: right;\">\n",
       "      <th></th>\n",
       "      <th>Name</th>\n",
       "      <th>Date</th>\n",
       "      <th>Rate</th>\n",
       "      <th>Votes</th>\n",
       "      <th>Genre</th>\n",
       "      <th>Duration</th>\n",
       "      <th>Type</th>\n",
       "      <th>Certificate</th>\n",
       "      <th>Episodes</th>\n",
       "      <th>Nudity</th>\n",
       "      <th>Violence</th>\n",
       "      <th>Profanity</th>\n",
       "      <th>Alcohol</th>\n",
       "      <th>Frightening</th>\n",
       "    </tr>\n",
       "  </thead>\n",
       "  <tbody>\n",
       "    <tr>\n",
       "      <th>5</th>\n",
       "      <td>Ted Lasso</td>\n",
       "      <td>2021</td>\n",
       "      <td>8.8</td>\n",
       "      <td>117562.0</td>\n",
       "      <td>Comedy, Drama, Sport</td>\n",
       "      <td>30.0</td>\n",
       "      <td>Series</td>\n",
       "      <td>TV-MA</td>\n",
       "      <td>23</td>\n",
       "      <td>Mild</td>\n",
       "      <td>None</td>\n",
       "      <td>Severe</td>\n",
       "      <td>Mild</td>\n",
       "      <td>None</td>\n",
       "    </tr>\n",
       "    <tr>\n",
       "      <th>7</th>\n",
       "      <td>House of the Dragon</td>\n",
       "      <td>2021</td>\n",
       "      <td>0.0</td>\n",
       "      <td>0.0</td>\n",
       "      <td>Action, Adventure, Drama</td>\n",
       "      <td>0.0</td>\n",
       "      <td>Series</td>\n",
       "      <td>None</td>\n",
       "      <td>10</td>\n",
       "      <td>No Rate</td>\n",
       "      <td>No Rate</td>\n",
       "      <td>No Rate</td>\n",
       "      <td>No Rate</td>\n",
       "      <td>No Rate</td>\n",
       "    </tr>\n",
       "    <tr>\n",
       "      <th>8</th>\n",
       "      <td>What If...?</td>\n",
       "      <td>2021</td>\n",
       "      <td>7.6</td>\n",
       "      <td>51959.0</td>\n",
       "      <td>Animation, Action, Adventure</td>\n",
       "      <td>0.0</td>\n",
       "      <td>Series</td>\n",
       "      <td>TV-14</td>\n",
       "      <td>18</td>\n",
       "      <td>None</td>\n",
       "      <td>Moderate</td>\n",
       "      <td>Mild</td>\n",
       "      <td>Mild</td>\n",
       "      <td>Moderate</td>\n",
       "    </tr>\n",
       "    <tr>\n",
       "      <th>9</th>\n",
       "      <td>Sex Education</td>\n",
       "      <td>2021</td>\n",
       "      <td>8.3</td>\n",
       "      <td>220201.0</td>\n",
       "      <td>Comedy, Drama</td>\n",
       "      <td>45.0</td>\n",
       "      <td>Series</td>\n",
       "      <td>TV-MA</td>\n",
       "      <td>25</td>\n",
       "      <td>Severe</td>\n",
       "      <td>Mild</td>\n",
       "      <td>Severe</td>\n",
       "      <td>Moderate</td>\n",
       "      <td>Mild</td>\n",
       "    </tr>\n",
       "    <tr>\n",
       "      <th>10</th>\n",
       "      <td>The Walking Dead</td>\n",
       "      <td>2021</td>\n",
       "      <td>8.2</td>\n",
       "      <td>906327.0</td>\n",
       "      <td>Drama, Horror, Thriller</td>\n",
       "      <td>44.0</td>\n",
       "      <td>Series</td>\n",
       "      <td>TV-14</td>\n",
       "      <td>177</td>\n",
       "      <td>Mild</td>\n",
       "      <td>Severe</td>\n",
       "      <td>Moderate</td>\n",
       "      <td>Mild</td>\n",
       "      <td>Severe</td>\n",
       "    </tr>\n",
       "  </tbody>\n",
       "</table>\n",
       "</div>"
      ],
      "text/plain": [
       "                   Name  Date  Rate     Votes                         Genre  \\\n",
       "5             Ted Lasso  2021   8.8  117562.0          Comedy, Drama, Sport   \n",
       "7   House of the Dragon  2021   0.0       0.0      Action, Adventure, Drama   \n",
       "8           What If...?  2021   7.6   51959.0  Animation, Action, Adventure   \n",
       "9         Sex Education  2021   8.3  220201.0                 Comedy, Drama   \n",
       "10     The Walking Dead  2021   8.2  906327.0       Drama, Horror, Thriller   \n",
       "\n",
       "    Duration    Type Certificate Episodes   Nudity  Violence Profanity  \\\n",
       "5       30.0  Series       TV-MA       23     Mild      None    Severe   \n",
       "7        0.0  Series        None       10  No Rate   No Rate   No Rate   \n",
       "8        0.0  Series       TV-14       18     None  Moderate      Mild   \n",
       "9       45.0  Series       TV-MA       25   Severe      Mild    Severe   \n",
       "10      44.0  Series       TV-14      177     Mild    Severe  Moderate   \n",
       "\n",
       "     Alcohol Frightening  \n",
       "5       Mild        None  \n",
       "7    No Rate     No Rate  \n",
       "8       Mild    Moderate  \n",
       "9   Moderate        Mild  \n",
       "10      Mild      Severe  "
      ]
     },
     "execution_count": 75,
     "metadata": {},
     "output_type": "execute_result"
    }
   ],
   "source": [
    "Series_df = Imdb_df.loc[Imdb_df.Type=='Series']\n",
    "Series_df.head(5)"
   ]
  },
  {
   "cell_type": "markdown",
   "metadata": {},
   "source": [
    "Top 10 web series as per rating"
   ]
  },
  {
   "cell_type": "code",
   "execution_count": 76,
   "metadata": {},
   "outputs": [
    {
     "data": {
      "text/plain": [
       "1946                             Aspirants\n",
       "909                             The Chosen\n",
       "1754                                 Bluey\n",
       "2780    Scam 1992: The Harshad Mehta Story\n",
       "52                            Breaking Bad\n",
       "109                               The Wire\n",
       "500             Avatar: The Last Airbender\n",
       "13                            The Sopranos\n",
       "18                         Game of Thrones\n",
       "96                          Rick and Morty\n",
       "Name: Name, dtype: object"
      ]
     },
     "execution_count": 76,
     "metadata": {},
     "output_type": "execute_result"
    }
   ],
   "source": [
    "Top_Rated_Series = Series_df.nlargest(10, 'Rate')\n",
    "Top_Rated_Series['Name']"
   ]
  },
  {
   "cell_type": "markdown",
   "metadata": {},
   "source": [
    "Top 10 web series as per voting"
   ]
  },
  {
   "cell_type": "code",
   "execution_count": 78,
   "metadata": {},
   "outputs": [
    {
     "data": {
      "text/plain": [
       "18           Game of Thrones\n",
       "52              Breaking Bad\n",
       "49           Stranger Things\n",
       "10          The Walking Dead\n",
       "69                   Friends\n",
       "306                 Sherlock\n",
       "108      The Big Bang Theory\n",
       "83                    Dexter\n",
       "150    How I Met Your Mother\n",
       "182           True Detective\n",
       "Name: Name, dtype: object"
      ]
     },
     "execution_count": 78,
     "metadata": {},
     "output_type": "execute_result"
    }
   ],
   "source": [
    "Top_Voted_Series = Series_df.nlargest(10, 'Votes')\n",
    "Top_Voted_Series['Name']"
   ]
  },
  {
   "cell_type": "markdown",
   "metadata": {},
   "source": [
    "#### Q4: Top 10 most liked Genre by people."
   ]
  },
  {
   "cell_type": "code",
   "execution_count": 90,
   "metadata": {},
   "outputs": [
    {
     "data": {
      "text/plain": [
       "(33, 14)"
      ]
     },
     "execution_count": 90,
     "metadata": {},
     "output_type": "execute_result"
    }
   ],
   "source": [
    "most_liked=Imdb_df[Imdb_df['Rate']>=9.0]\n",
    "most_liked.shape"
   ]
  },
  {
   "cell_type": "code",
   "execution_count": 91,
   "metadata": {},
   "outputs": [
    {
     "data": {
      "text/plain": [
       "Action                               NaN\n",
       "Action, Adventure                    NaN\n",
       "Action, Adventure, Biography         NaN\n",
       "Action, Adventure, Comedy            NaN\n",
       "Action, Adventure, Crime             NaN\n",
       "Action, Adventure, Drama        0.714286\n",
       "Action, Adventure, Family            NaN\n",
       "Action, Adventure, Fantasy           NaN\n",
       "Action, Adventure, History           NaN\n",
       "Action, Adventure, Horror            NaN\n",
       "Action, Adventure, Mystery           NaN\n",
       "Action, Adventure, Romance           NaN\n",
       "Action, Adventure, Sci-Fi            NaN\n",
       "Action, Adventure, Thriller          NaN\n",
       "Action, Adventure, Western           NaN\n",
       "Action, Biography, Crime             NaN\n",
       "Action, Biography, Drama             NaN\n",
       "Action, Comedy                       NaN\n",
       "Action, Comedy, Crime                NaN\n",
       "Action, Comedy, Drama                NaN\n",
       "Name: Genre, dtype: float64"
      ]
     },
     "execution_count": 91,
     "metadata": {},
     "output_type": "execute_result"
    }
   ],
   "source": [
    "most_liked_per=(most_liked['Genre'].value_counts())/(Imdb_df['Genre'].value_counts())*100\n",
    "most_liked_per.head(20)"
   ]
  },
  {
   "cell_type": "code",
   "execution_count": 93,
   "metadata": {},
   "outputs": [
    {
     "data": {
      "text/plain": [
       "Comedy, Game-Show               100.000000\n",
       "Animation, Family               100.000000\n",
       "Animation, Crime, Drama          50.000000\n",
       "Adventure, Fantasy               40.000000\n",
       "Documentary, Reality-TV          16.666667\n",
       "Adventure, Drama, Sci-Fi         12.500000\n",
       "Biography, Drama, Music           7.142857\n",
       "Drama, History                    6.666667\n",
       "Crime, Drama                      5.000000\n",
       "Animation, Action, Adventure      4.629630\n",
       "Name: Genre, dtype: float64"
      ]
     },
     "execution_count": 93,
     "metadata": {},
     "output_type": "execute_result"
    }
   ],
   "source": [
    "most_liked_per.sort_values(ascending =False).head(10)"
   ]
  },
  {
   "cell_type": "code",
   "execution_count": 96,
   "metadata": {},
   "outputs": [],
   "source": [
    "import jovian"
   ]
  },
  {
   "cell_type": "code",
   "execution_count": 97,
   "metadata": {},
   "outputs": [
    {
     "data": {
      "application/javascript": [
       "window.require && require([\"base/js/namespace\"],function(Jupyter){Jupyter.notebook.save_checkpoint()})"
      ],
      "text/plain": [
       "<IPython.core.display.Javascript object>"
      ]
     },
     "metadata": {},
     "output_type": "display_data"
    },
    {
     "name": "stdout",
     "output_type": "stream",
     "text": [
      "[jovian] Updating notebook \"azizforai/eda-imdb-movies-series-aziz\" on https://jovian.ai\u001b[0m\n",
      "[jovian] Committed successfully! https://jovian.ai/azizforai/eda-imdb-movies-series-aziz\u001b[0m\n"
     ]
    },
    {
     "data": {
      "text/plain": [
       "'https://jovian.ai/azizforai/eda-imdb-movies-series-aziz'"
      ]
     },
     "execution_count": 97,
     "metadata": {},
     "output_type": "execute_result"
    }
   ],
   "source": [
    "jovian.commit()"
   ]
  },
  {
   "cell_type": "markdown",
   "metadata": {},
   "source": [
    "## Inferences and Conclusion\n",
    "\n",
    "#### Inferences \n",
    "    The following inferences made by this work.\n",
    "        1) Maybe Severe the Nudity highly correlated to Rating.\n",
    "        2) It is shown that the high rated movie or web series having more votes.\n",
    "        3) The Heat map clearly shows how closely (\"Rate\", \"Votes\"),(\"Rate\", \"Duration\"), and (\"Votes\", \"Duration\") are related.\n",
    "        4) The majority of people showing interest on web series.\n",
    "#### Conclusion\n",
    "    In this Notebook, we saw the most important subjects for any type of analysis. We saw how to clean and preprocess the data depends on the domain of dataset and features.\n",
    "    We saw how to do univariate and bivariate/multivariate analysis by using Visualization.\n",
    "    And, at the end we answered some interesting questions."
   ]
  },
  {
   "cell_type": "code",
   "execution_count": 105,
   "metadata": {},
   "outputs": [],
   "source": [
    "import jovian"
   ]
  },
  {
   "cell_type": "code",
   "execution_count": 106,
   "metadata": {},
   "outputs": [
    {
     "data": {
      "application/javascript": [
       "window.require && require([\"base/js/namespace\"],function(Jupyter){Jupyter.notebook.save_checkpoint()})"
      ],
      "text/plain": [
       "<IPython.core.display.Javascript object>"
      ]
     },
     "metadata": {},
     "output_type": "display_data"
    },
    {
     "name": "stdout",
     "output_type": "stream",
     "text": [
      "[jovian] Updating notebook \"azizforai/eda-imdb-movies-series-aziz\" on https://jovian.ai\u001b[0m\n",
      "[jovian] Committed successfully! https://jovian.ai/azizforai/eda-imdb-movies-series-aziz\u001b[0m\n"
     ]
    },
    {
     "data": {
      "text/plain": [
       "'https://jovian.ai/azizforai/eda-imdb-movies-series-aziz'"
      ]
     },
     "execution_count": 106,
     "metadata": {},
     "output_type": "execute_result"
    }
   ],
   "source": [
    "jovian.commit()"
   ]
  },
  {
   "cell_type": "markdown",
   "metadata": {},
   "source": [
    "## References and Future Work\n",
    "\n",
    "Till now we did data cleaning, preprocessing, and did some EDA. Now we got some understanding that, how the data is behaving.\n",
    "As a future work, we use this processed data for **Machine Learning** model prediction. \n",
    "    On this data, \n",
    "        1) We can predict rating of a new movie based on other features.\n",
    "        2) By doing some more processing on \"Genre\" feature and classify the \"Genre\" for new movie.\n",
    "This is the some future work I noted at this point. \n",
    ">\n",
    "Once again thank you to course instructor Mr. Aakash N S for providing such a nice course [Data Analysis with Python: Zero to Pandas](zerotopandas.com).\n",
    ">\n",
    "    "
   ]
  },
  {
   "cell_type": "code",
   "execution_count": 3,
   "metadata": {},
   "outputs": [],
   "source": [
    "import jovian"
   ]
  },
  {
   "cell_type": "code",
   "execution_count": null,
   "metadata": {},
   "outputs": [
    {
     "data": {
      "application/javascript": [
       "window.require && require([\"base/js/namespace\"],function(Jupyter){Jupyter.notebook.save_checkpoint()})"
      ],
      "text/plain": [
       "<IPython.core.display.Javascript object>"
      ]
     },
     "metadata": {},
     "output_type": "display_data"
    }
   ],
   "source": [
    "jovian.commit()"
   ]
  }
 ],
 "metadata": {
  "language_info": {
   "codemirror_mode": {
    "name": "ipython",
    "version": 3
   },
   "file_extension": ".py",
   "mimetype": "text/x-python",
   "name": "python",
   "nbconvert_exporter": "python",
   "pygments_lexer": "ipython3",
   "version": "3.9.6"
  }
 },
 "nbformat": 4,
 "nbformat_minor": 4
}